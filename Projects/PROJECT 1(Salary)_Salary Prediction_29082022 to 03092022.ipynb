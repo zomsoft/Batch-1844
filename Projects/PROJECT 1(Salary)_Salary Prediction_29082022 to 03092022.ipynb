{
 "cells": [
  {
   "cell_type": "markdown",
   "id": "4b013650",
   "metadata": {},
   "source": [
    "# PROBLEM STATEMENT(SALARY PROJECT)\n",
    "- Predict the salary if the employee using the features provided in the data. \n",
    "\n",
    "\n",
    "Downlaod Files:\n",
    "https://raw.githubusercontent.com/dsrscientist/dataset3/main/Salaries.csv"
   ]
  },
  {
   "cell_type": "markdown",
   "id": "5a647848",
   "metadata": {},
   "source": [
    "# Step 1 - IMPORT ALL NECESSARY LIBRARIES"
   ]
  },
  {
   "cell_type": "code",
   "execution_count": 1,
   "id": "3793a6cc",
   "metadata": {},
   "outputs": [],
   "source": [
    "#Step1 - Import all necessary libraries\n",
    "import pandas as pd\n",
    "import numpy as np\n",
    "from sklearn.neighbors import KNeighborsRegressor\n",
    "from sklearn.tree import DecisionTreeRegressor\n",
    "from sklearn.ensemble import RandomForestRegressor\n",
    "from sklearn.ensemble import AdaBoostRegressor\n",
    "from sklearn.ensemble import GradientBoostingRegressor\n",
    "from xgboost import XGBRegressor\n",
    "from sklearn.preprocessing import StandardScaler\n",
    "from sklearn.model_selection import train_test_split,cross_val_score,GridSearchCV, RandomizedSearchCV,KFold,cross_val_score\n",
    "from scipy.stats import zscore\n",
    "from sklearn.preprocessing import PowerTransformer\n",
    "from collections import Counter\n",
    "from sklearn import metrics\n",
    "import seaborn as sns\n",
    "import matplotlib.pyplot as plt\n",
    "import pickle\n",
    "\n",
    "import warnings\n",
    "warnings.filterwarnings('ignore')"
   ]
  },
  {
   "cell_type": "markdown",
   "id": "e2bdb95f",
   "metadata": {},
   "source": [
    "# Step 2 - LOAD DATA SET AND PERFORM DATA DESCRIPTIVE ANALYSIS"
   ]
  },
  {
   "cell_type": "code",
   "execution_count": 2,
   "id": "f1bb6c42",
   "metadata": {},
   "outputs": [
    {
     "data": {
      "text/html": [
       "<div>\n",
       "<style scoped>\n",
       "    .dataframe tbody tr th:only-of-type {\n",
       "        vertical-align: middle;\n",
       "    }\n",
       "\n",
       "    .dataframe tbody tr th {\n",
       "        vertical-align: top;\n",
       "    }\n",
       "\n",
       "    .dataframe thead th {\n",
       "        text-align: right;\n",
       "    }\n",
       "</style>\n",
       "<table border=\"1\" class=\"dataframe\">\n",
       "  <thead>\n",
       "    <tr style=\"text-align: right;\">\n",
       "      <th></th>\n",
       "      <th>rank</th>\n",
       "      <th>discipline</th>\n",
       "      <th>yrs.since.phd</th>\n",
       "      <th>yrs.service</th>\n",
       "      <th>sex</th>\n",
       "      <th>salary</th>\n",
       "    </tr>\n",
       "  </thead>\n",
       "  <tbody>\n",
       "    <tr>\n",
       "      <th>0</th>\n",
       "      <td>Prof</td>\n",
       "      <td>B</td>\n",
       "      <td>19</td>\n",
       "      <td>18</td>\n",
       "      <td>Male</td>\n",
       "      <td>139750</td>\n",
       "    </tr>\n",
       "    <tr>\n",
       "      <th>1</th>\n",
       "      <td>Prof</td>\n",
       "      <td>B</td>\n",
       "      <td>20</td>\n",
       "      <td>16</td>\n",
       "      <td>Male</td>\n",
       "      <td>173200</td>\n",
       "    </tr>\n",
       "    <tr>\n",
       "      <th>2</th>\n",
       "      <td>AsstProf</td>\n",
       "      <td>B</td>\n",
       "      <td>4</td>\n",
       "      <td>3</td>\n",
       "      <td>Male</td>\n",
       "      <td>79750</td>\n",
       "    </tr>\n",
       "    <tr>\n",
       "      <th>3</th>\n",
       "      <td>Prof</td>\n",
       "      <td>B</td>\n",
       "      <td>45</td>\n",
       "      <td>39</td>\n",
       "      <td>Male</td>\n",
       "      <td>115000</td>\n",
       "    </tr>\n",
       "    <tr>\n",
       "      <th>4</th>\n",
       "      <td>Prof</td>\n",
       "      <td>B</td>\n",
       "      <td>40</td>\n",
       "      <td>41</td>\n",
       "      <td>Male</td>\n",
       "      <td>141500</td>\n",
       "    </tr>\n",
       "    <tr>\n",
       "      <th>...</th>\n",
       "      <td>...</td>\n",
       "      <td>...</td>\n",
       "      <td>...</td>\n",
       "      <td>...</td>\n",
       "      <td>...</td>\n",
       "      <td>...</td>\n",
       "    </tr>\n",
       "    <tr>\n",
       "      <th>392</th>\n",
       "      <td>Prof</td>\n",
       "      <td>A</td>\n",
       "      <td>33</td>\n",
       "      <td>30</td>\n",
       "      <td>Male</td>\n",
       "      <td>103106</td>\n",
       "    </tr>\n",
       "    <tr>\n",
       "      <th>393</th>\n",
       "      <td>Prof</td>\n",
       "      <td>A</td>\n",
       "      <td>31</td>\n",
       "      <td>19</td>\n",
       "      <td>Male</td>\n",
       "      <td>150564</td>\n",
       "    </tr>\n",
       "    <tr>\n",
       "      <th>394</th>\n",
       "      <td>Prof</td>\n",
       "      <td>A</td>\n",
       "      <td>42</td>\n",
       "      <td>25</td>\n",
       "      <td>Male</td>\n",
       "      <td>101738</td>\n",
       "    </tr>\n",
       "    <tr>\n",
       "      <th>395</th>\n",
       "      <td>Prof</td>\n",
       "      <td>A</td>\n",
       "      <td>25</td>\n",
       "      <td>15</td>\n",
       "      <td>Male</td>\n",
       "      <td>95329</td>\n",
       "    </tr>\n",
       "    <tr>\n",
       "      <th>396</th>\n",
       "      <td>AsstProf</td>\n",
       "      <td>A</td>\n",
       "      <td>8</td>\n",
       "      <td>4</td>\n",
       "      <td>Male</td>\n",
       "      <td>81035</td>\n",
       "    </tr>\n",
       "  </tbody>\n",
       "</table>\n",
       "<p>397 rows × 6 columns</p>\n",
       "</div>"
      ],
      "text/plain": [
       "         rank discipline  yrs.since.phd  yrs.service   sex  salary\n",
       "0        Prof          B             19           18  Male  139750\n",
       "1        Prof          B             20           16  Male  173200\n",
       "2    AsstProf          B              4            3  Male   79750\n",
       "3        Prof          B             45           39  Male  115000\n",
       "4        Prof          B             40           41  Male  141500\n",
       "..        ...        ...            ...          ...   ...     ...\n",
       "392      Prof          A             33           30  Male  103106\n",
       "393      Prof          A             31           19  Male  150564\n",
       "394      Prof          A             42           25  Male  101738\n",
       "395      Prof          A             25           15  Male   95329\n",
       "396  AsstProf          A              8            4  Male   81035\n",
       "\n",
       "[397 rows x 6 columns]"
      ]
     },
     "execution_count": 2,
     "metadata": {},
     "output_type": "execute_result"
    }
   ],
   "source": [
    "#Load dataset\n",
    "df=pd.read_csv('https://raw.githubusercontent.com/dsrscientist/dataset3/main/Salaries.csv')\n",
    "df"
   ]
  },
  {
   "cell_type": "code",
   "execution_count": 3,
   "id": "b78450ca",
   "metadata": {},
   "outputs": [
    {
     "data": {
      "text/plain": [
       "(397, 6)"
      ]
     },
     "execution_count": 3,
     "metadata": {},
     "output_type": "execute_result"
    }
   ],
   "source": [
    "#checking the data shape\n",
    "df.shape"
   ]
  },
  {
   "cell_type": "code",
   "execution_count": 4,
   "id": "e4b9d192",
   "metadata": {},
   "outputs": [
    {
     "name": "stdout",
     "output_type": "stream",
     "text": [
      "<class 'pandas.core.frame.DataFrame'>\n",
      "RangeIndex: 397 entries, 0 to 396\n",
      "Data columns (total 6 columns):\n",
      " #   Column         Non-Null Count  Dtype \n",
      "---  ------         --------------  ----- \n",
      " 0   rank           397 non-null    object\n",
      " 1   discipline     397 non-null    object\n",
      " 2   yrs.since.phd  397 non-null    int64 \n",
      " 3   yrs.service    397 non-null    int64 \n",
      " 4   sex            397 non-null    object\n",
      " 5   salary         397 non-null    int64 \n",
      "dtypes: int64(3), object(3)\n",
      "memory usage: 18.7+ KB\n"
     ]
    }
   ],
   "source": [
    "#Checking data info\n",
    "df.info()"
   ]
  },
  {
   "cell_type": "code",
   "execution_count": 5,
   "id": "fa652e3d",
   "metadata": {},
   "outputs": [
    {
     "data": {
      "text/html": [
       "<div>\n",
       "<style scoped>\n",
       "    .dataframe tbody tr th:only-of-type {\n",
       "        vertical-align: middle;\n",
       "    }\n",
       "\n",
       "    .dataframe tbody tr th {\n",
       "        vertical-align: top;\n",
       "    }\n",
       "\n",
       "    .dataframe thead th {\n",
       "        text-align: right;\n",
       "    }\n",
       "</style>\n",
       "<table border=\"1\" class=\"dataframe\">\n",
       "  <thead>\n",
       "    <tr style=\"text-align: right;\">\n",
       "      <th></th>\n",
       "      <th>yrs.since.phd</th>\n",
       "      <th>yrs.service</th>\n",
       "      <th>salary</th>\n",
       "    </tr>\n",
       "  </thead>\n",
       "  <tbody>\n",
       "    <tr>\n",
       "      <th>count</th>\n",
       "      <td>397.000000</td>\n",
       "      <td>397.000000</td>\n",
       "      <td>397.000000</td>\n",
       "    </tr>\n",
       "    <tr>\n",
       "      <th>mean</th>\n",
       "      <td>22.314861</td>\n",
       "      <td>17.614610</td>\n",
       "      <td>113706.458438</td>\n",
       "    </tr>\n",
       "    <tr>\n",
       "      <th>std</th>\n",
       "      <td>12.887003</td>\n",
       "      <td>13.006024</td>\n",
       "      <td>30289.038695</td>\n",
       "    </tr>\n",
       "    <tr>\n",
       "      <th>min</th>\n",
       "      <td>1.000000</td>\n",
       "      <td>0.000000</td>\n",
       "      <td>57800.000000</td>\n",
       "    </tr>\n",
       "    <tr>\n",
       "      <th>25%</th>\n",
       "      <td>12.000000</td>\n",
       "      <td>7.000000</td>\n",
       "      <td>91000.000000</td>\n",
       "    </tr>\n",
       "    <tr>\n",
       "      <th>50%</th>\n",
       "      <td>21.000000</td>\n",
       "      <td>16.000000</td>\n",
       "      <td>107300.000000</td>\n",
       "    </tr>\n",
       "    <tr>\n",
       "      <th>75%</th>\n",
       "      <td>32.000000</td>\n",
       "      <td>27.000000</td>\n",
       "      <td>134185.000000</td>\n",
       "    </tr>\n",
       "    <tr>\n",
       "      <th>max</th>\n",
       "      <td>56.000000</td>\n",
       "      <td>60.000000</td>\n",
       "      <td>231545.000000</td>\n",
       "    </tr>\n",
       "  </tbody>\n",
       "</table>\n",
       "</div>"
      ],
      "text/plain": [
       "       yrs.since.phd  yrs.service         salary\n",
       "count     397.000000   397.000000     397.000000\n",
       "mean       22.314861    17.614610  113706.458438\n",
       "std        12.887003    13.006024   30289.038695\n",
       "min         1.000000     0.000000   57800.000000\n",
       "25%        12.000000     7.000000   91000.000000\n",
       "50%        21.000000    16.000000  107300.000000\n",
       "75%        32.000000    27.000000  134185.000000\n",
       "max        56.000000    60.000000  231545.000000"
      ]
     },
     "execution_count": 5,
     "metadata": {},
     "output_type": "execute_result"
    }
   ],
   "source": [
    "#Checking data full description\n",
    "df.describe()"
   ]
  },
  {
   "cell_type": "code",
   "execution_count": 6,
   "id": "8cb9e1c0",
   "metadata": {},
   "outputs": [
    {
     "data": {
      "text/html": [
       "<div>\n",
       "<style scoped>\n",
       "    .dataframe tbody tr th:only-of-type {\n",
       "        vertical-align: middle;\n",
       "    }\n",
       "\n",
       "    .dataframe tbody tr th {\n",
       "        vertical-align: top;\n",
       "    }\n",
       "\n",
       "    .dataframe thead th {\n",
       "        text-align: right;\n",
       "    }\n",
       "</style>\n",
       "<table border=\"1\" class=\"dataframe\">\n",
       "  <thead>\n",
       "    <tr style=\"text-align: right;\">\n",
       "      <th></th>\n",
       "      <th>rank</th>\n",
       "      <th>discipline</th>\n",
       "      <th>yrs.since.phd</th>\n",
       "      <th>yrs.service</th>\n",
       "      <th>sex</th>\n",
       "      <th>salary</th>\n",
       "    </tr>\n",
       "  </thead>\n",
       "  <tbody>\n",
       "    <tr>\n",
       "      <th>0</th>\n",
       "      <td>Prof</td>\n",
       "      <td>B</td>\n",
       "      <td>19</td>\n",
       "      <td>18</td>\n",
       "      <td>Male</td>\n",
       "      <td>139750</td>\n",
       "    </tr>\n",
       "    <tr>\n",
       "      <th>1</th>\n",
       "      <td>Prof</td>\n",
       "      <td>B</td>\n",
       "      <td>20</td>\n",
       "      <td>16</td>\n",
       "      <td>Male</td>\n",
       "      <td>173200</td>\n",
       "    </tr>\n",
       "    <tr>\n",
       "      <th>2</th>\n",
       "      <td>AsstProf</td>\n",
       "      <td>B</td>\n",
       "      <td>4</td>\n",
       "      <td>3</td>\n",
       "      <td>Male</td>\n",
       "      <td>79750</td>\n",
       "    </tr>\n",
       "    <tr>\n",
       "      <th>3</th>\n",
       "      <td>Prof</td>\n",
       "      <td>B</td>\n",
       "      <td>45</td>\n",
       "      <td>39</td>\n",
       "      <td>Male</td>\n",
       "      <td>115000</td>\n",
       "    </tr>\n",
       "    <tr>\n",
       "      <th>4</th>\n",
       "      <td>Prof</td>\n",
       "      <td>B</td>\n",
       "      <td>40</td>\n",
       "      <td>41</td>\n",
       "      <td>Male</td>\n",
       "      <td>141500</td>\n",
       "    </tr>\n",
       "  </tbody>\n",
       "</table>\n",
       "</div>"
      ],
      "text/plain": [
       "       rank discipline  yrs.since.phd  yrs.service   sex  salary\n",
       "0      Prof          B             19           18  Male  139750\n",
       "1      Prof          B             20           16  Male  173200\n",
       "2  AsstProf          B              4            3  Male   79750\n",
       "3      Prof          B             45           39  Male  115000\n",
       "4      Prof          B             40           41  Male  141500"
      ]
     },
     "execution_count": 6,
     "metadata": {},
     "output_type": "execute_result"
    }
   ],
   "source": [
    "#checking the first five rows\n",
    "df.head()"
   ]
  },
  {
   "cell_type": "code",
   "execution_count": 7,
   "id": "3e29880e",
   "metadata": {},
   "outputs": [
    {
     "data": {
      "text/html": [
       "<div>\n",
       "<style scoped>\n",
       "    .dataframe tbody tr th:only-of-type {\n",
       "        vertical-align: middle;\n",
       "    }\n",
       "\n",
       "    .dataframe tbody tr th {\n",
       "        vertical-align: top;\n",
       "    }\n",
       "\n",
       "    .dataframe thead th {\n",
       "        text-align: right;\n",
       "    }\n",
       "</style>\n",
       "<table border=\"1\" class=\"dataframe\">\n",
       "  <thead>\n",
       "    <tr style=\"text-align: right;\">\n",
       "      <th></th>\n",
       "      <th>rank</th>\n",
       "      <th>discipline</th>\n",
       "      <th>yrs.since.phd</th>\n",
       "      <th>yrs.service</th>\n",
       "      <th>sex</th>\n",
       "      <th>salary</th>\n",
       "    </tr>\n",
       "  </thead>\n",
       "  <tbody>\n",
       "    <tr>\n",
       "      <th>392</th>\n",
       "      <td>Prof</td>\n",
       "      <td>A</td>\n",
       "      <td>33</td>\n",
       "      <td>30</td>\n",
       "      <td>Male</td>\n",
       "      <td>103106</td>\n",
       "    </tr>\n",
       "    <tr>\n",
       "      <th>393</th>\n",
       "      <td>Prof</td>\n",
       "      <td>A</td>\n",
       "      <td>31</td>\n",
       "      <td>19</td>\n",
       "      <td>Male</td>\n",
       "      <td>150564</td>\n",
       "    </tr>\n",
       "    <tr>\n",
       "      <th>394</th>\n",
       "      <td>Prof</td>\n",
       "      <td>A</td>\n",
       "      <td>42</td>\n",
       "      <td>25</td>\n",
       "      <td>Male</td>\n",
       "      <td>101738</td>\n",
       "    </tr>\n",
       "    <tr>\n",
       "      <th>395</th>\n",
       "      <td>Prof</td>\n",
       "      <td>A</td>\n",
       "      <td>25</td>\n",
       "      <td>15</td>\n",
       "      <td>Male</td>\n",
       "      <td>95329</td>\n",
       "    </tr>\n",
       "    <tr>\n",
       "      <th>396</th>\n",
       "      <td>AsstProf</td>\n",
       "      <td>A</td>\n",
       "      <td>8</td>\n",
       "      <td>4</td>\n",
       "      <td>Male</td>\n",
       "      <td>81035</td>\n",
       "    </tr>\n",
       "  </tbody>\n",
       "</table>\n",
       "</div>"
      ],
      "text/plain": [
       "         rank discipline  yrs.since.phd  yrs.service   sex  salary\n",
       "392      Prof          A             33           30  Male  103106\n",
       "393      Prof          A             31           19  Male  150564\n",
       "394      Prof          A             42           25  Male  101738\n",
       "395      Prof          A             25           15  Male   95329\n",
       "396  AsstProf          A              8            4  Male   81035"
      ]
     },
     "execution_count": 7,
     "metadata": {},
     "output_type": "execute_result"
    }
   ],
   "source": [
    "#checking the last five rows\n",
    "df.tail()"
   ]
  },
  {
   "cell_type": "code",
   "execution_count": 8,
   "id": "6328dac6",
   "metadata": {},
   "outputs": [
    {
     "data": {
      "text/html": [
       "<div>\n",
       "<style scoped>\n",
       "    .dataframe tbody tr th:only-of-type {\n",
       "        vertical-align: middle;\n",
       "    }\n",
       "\n",
       "    .dataframe tbody tr th {\n",
       "        vertical-align: top;\n",
       "    }\n",
       "\n",
       "    .dataframe thead th {\n",
       "        text-align: right;\n",
       "    }\n",
       "</style>\n",
       "<table border=\"1\" class=\"dataframe\">\n",
       "  <thead>\n",
       "    <tr style=\"text-align: right;\">\n",
       "      <th></th>\n",
       "      <th>rank</th>\n",
       "      <th>discipline</th>\n",
       "      <th>yrs.since.phd</th>\n",
       "      <th>yrs.service</th>\n",
       "      <th>sex</th>\n",
       "      <th>salary</th>\n",
       "    </tr>\n",
       "  </thead>\n",
       "  <tbody>\n",
       "    <tr>\n",
       "      <th>287</th>\n",
       "      <td>AsstProf</td>\n",
       "      <td>A</td>\n",
       "      <td>2</td>\n",
       "      <td>0</td>\n",
       "      <td>Male</td>\n",
       "      <td>85000</td>\n",
       "    </tr>\n",
       "    <tr>\n",
       "      <th>386</th>\n",
       "      <td>Prof</td>\n",
       "      <td>A</td>\n",
       "      <td>29</td>\n",
       "      <td>27</td>\n",
       "      <td>Male</td>\n",
       "      <td>139219</td>\n",
       "    </tr>\n",
       "    <tr>\n",
       "      <th>234</th>\n",
       "      <td>AsstProf</td>\n",
       "      <td>A</td>\n",
       "      <td>8</td>\n",
       "      <td>3</td>\n",
       "      <td>Male</td>\n",
       "      <td>69700</td>\n",
       "    </tr>\n",
       "    <tr>\n",
       "      <th>77</th>\n",
       "      <td>Prof</td>\n",
       "      <td>B</td>\n",
       "      <td>26</td>\n",
       "      <td>19</td>\n",
       "      <td>Male</td>\n",
       "      <td>193000</td>\n",
       "    </tr>\n",
       "  </tbody>\n",
       "</table>\n",
       "</div>"
      ],
      "text/plain": [
       "         rank discipline  yrs.since.phd  yrs.service   sex  salary\n",
       "287  AsstProf          A              2            0  Male   85000\n",
       "386      Prof          A             29           27  Male  139219\n",
       "234  AsstProf          A              8            3  Male   69700\n",
       "77       Prof          B             26           19  Male  193000"
      ]
     },
     "execution_count": 8,
     "metadata": {},
     "output_type": "execute_result"
    }
   ],
   "source": [
    "#picking 4 random samples\n",
    "df.sample(4)"
   ]
  },
  {
   "cell_type": "code",
   "execution_count": 9,
   "id": "630f19eb",
   "metadata": {},
   "outputs": [
    {
     "data": {
      "text/plain": [
       "Index(['rank', 'discipline', 'yrs.since.phd', 'yrs.service', 'sex', 'salary'], dtype='object')"
      ]
     },
     "execution_count": 9,
     "metadata": {},
     "output_type": "execute_result"
    }
   ],
   "source": [
    "#lets check the columns\n",
    "df.columns"
   ]
  },
  {
   "cell_type": "code",
   "execution_count": 10,
   "id": "80fe76e4",
   "metadata": {},
   "outputs": [
    {
     "data": {
      "text/plain": [
       "rank             0\n",
       "discipline       0\n",
       "yrs.since.phd    0\n",
       "yrs.service      0\n",
       "sex              0\n",
       "salary           0\n",
       "dtype: int64"
      ]
     },
     "execution_count": 10,
     "metadata": {},
     "output_type": "execute_result"
    }
   ],
   "source": [
    "#Checking for null values\n",
    "df.isnull().sum()"
   ]
  },
  {
   "cell_type": "code",
   "execution_count": 11,
   "id": "ab01f0ed",
   "metadata": {},
   "outputs": [
    {
     "name": "stdout",
     "output_type": "stream",
     "text": [
      "The Value Counts in rank -  Counter({'Prof': 266, 'AsstProf': 67, 'AssocProf': 64})\n",
      "The Value Counts in Discipline -  Counter({'B': 216, 'A': 181})\n",
      "The Value Counts in sex -  Counter({'Male': 358, 'Female': 39})\n"
     ]
    }
   ],
   "source": [
    "#Checking the content of each Categorical columns\n",
    "from collections import Counter\n",
    "print(\"The Value Counts in rank - \",Counter(df['rank']))\n",
    "print(\"The Value Counts in Discipline - \",Counter(df['discipline']))\n",
    "print(\"The Value Counts in sex - \",Counter(df['sex']))"
   ]
  },
  {
   "cell_type": "markdown",
   "id": "ce4c3260",
   "metadata": {},
   "source": [
    "# OBSERVATIONS\n",
    "\n",
    "\n",
    "# The Dataset is made up of;\n",
    "- 397 rows and 6 columns\n",
    "- 5 features and 1 Target\n",
    "\n",
    "# About the Features:\n",
    "1. Rank: This column shows the postion of the prospective employer and has the following Characterics;\n",
    "- It is made up of Categorical(Ordinal) data\n",
    "- It has three factors and shows an employee can be an AsstProf,AssocProf and Prof which are in an sequence from Lowest to   Highest\n",
    "- AsstProf, AssocProf and Prof have the following counts - 67, 64 and 266 respectively\n",
    "- It has no null values\n",
    "- Its Datatype is an Object type\n",
    "\n",
    "2. Discipline: This column shows the department the prospective employee is working in and has the following Characterics;\n",
    "- It is made up of Categorical data\n",
    "- It has two factors and shows an employee can be in Theoretical Department(i.e A) or Applied Department(i.e B)\n",
    "- A and B have the following counts - 181 and 216 respectively\n",
    "- It has no null values\n",
    "- Its Datatype is an Object type\n",
    "\n",
    "3. Yrs.Since.Phd: This column shows the number of years a prospective employee already has its phd and has the following Characterics;\n",
    "- It is made up of Continous data\n",
    "- It has no null values\n",
    "- Its Datatype is an Interger type\n",
    "\n",
    "4. Yrs.Service: This column shows the number of years the prospective employee is already working in his or her profession and has the following Characterics;\n",
    "- It is made up of Continous data\n",
    "- It has no null values\n",
    "- Its Datatype is an Interger type\n",
    "\n",
    "5. Sex: This column shows the category of humans of the prospective employee and has the following Characterics;\n",
    "- It is made up of Categorical data\n",
    "- It has two factors and shows an employee can either be a Male or a Female\n",
    "- Male and Femal have the following counts - 358 and 39 respectively\n",
    "- It has no null values\n",
    "- Its Datatype is an Object type\n",
    "\n",
    "\n",
    "# About the Target/Label:\n",
    "\n",
    "6. Salary: This column shows the fixed regular payment to the prospective employee on a monthly basis and has the following Characterics;\n",
    "- It is made up of Continous data\n",
    "- It has no null values\n",
    "- Its Datatype is an Interger type\n",
    "\n",
    "**Since the target is made up of a continous data hence this is a REGRESSION PROBLEM!"
   ]
  },
  {
   "cell_type": "markdown",
   "id": "b1ed1db9",
   "metadata": {},
   "source": [
    "# Step 3 - EXPLORATORY DATA ANALYSIS(EDA)\n",
    "The objectives of the EDA is to ensure;\n",
    "1. Independent Features will have a normal distribution using Data Transformation to remove skewness\n",
    "2. Datasets will have the same scale using Normalization and Standardization\n",
    "3. Column mean will be zero\n",
    "4. Standard Deviation of the data should be 1"
   ]
  },
  {
   "cell_type": "markdown",
   "id": "2047a0e2",
   "metadata": {},
   "source": [
    "# Encoding\n",
    "- We cannot perform Exploratory Data Analysis on Categorical Data so we have to first of all convert them to numerical data\n",
    "- Since the factors in each categorical columns are minute we can simply replace them with numerical values(i.e 0, 1, 2..etc)"
   ]
  },
  {
   "cell_type": "code",
   "execution_count": 12,
   "id": "8f43f397",
   "metadata": {},
   "outputs": [
    {
     "data": {
      "text/html": [
       "<div>\n",
       "<style scoped>\n",
       "    .dataframe tbody tr th:only-of-type {\n",
       "        vertical-align: middle;\n",
       "    }\n",
       "\n",
       "    .dataframe tbody tr th {\n",
       "        vertical-align: top;\n",
       "    }\n",
       "\n",
       "    .dataframe thead th {\n",
       "        text-align: right;\n",
       "    }\n",
       "</style>\n",
       "<table border=\"1\" class=\"dataframe\">\n",
       "  <thead>\n",
       "    <tr style=\"text-align: right;\">\n",
       "      <th></th>\n",
       "      <th>rank</th>\n",
       "      <th>discipline</th>\n",
       "      <th>yrs.since.phd</th>\n",
       "      <th>yrs.service</th>\n",
       "      <th>sex</th>\n",
       "      <th>salary</th>\n",
       "    </tr>\n",
       "  </thead>\n",
       "  <tbody>\n",
       "    <tr>\n",
       "      <th>0</th>\n",
       "      <td>2</td>\n",
       "      <td>1</td>\n",
       "      <td>19</td>\n",
       "      <td>18</td>\n",
       "      <td>0</td>\n",
       "      <td>139750</td>\n",
       "    </tr>\n",
       "    <tr>\n",
       "      <th>1</th>\n",
       "      <td>2</td>\n",
       "      <td>1</td>\n",
       "      <td>20</td>\n",
       "      <td>16</td>\n",
       "      <td>0</td>\n",
       "      <td>173200</td>\n",
       "    </tr>\n",
       "    <tr>\n",
       "      <th>2</th>\n",
       "      <td>0</td>\n",
       "      <td>1</td>\n",
       "      <td>4</td>\n",
       "      <td>3</td>\n",
       "      <td>0</td>\n",
       "      <td>79750</td>\n",
       "    </tr>\n",
       "    <tr>\n",
       "      <th>3</th>\n",
       "      <td>2</td>\n",
       "      <td>1</td>\n",
       "      <td>45</td>\n",
       "      <td>39</td>\n",
       "      <td>0</td>\n",
       "      <td>115000</td>\n",
       "    </tr>\n",
       "    <tr>\n",
       "      <th>4</th>\n",
       "      <td>2</td>\n",
       "      <td>1</td>\n",
       "      <td>40</td>\n",
       "      <td>41</td>\n",
       "      <td>0</td>\n",
       "      <td>141500</td>\n",
       "    </tr>\n",
       "    <tr>\n",
       "      <th>...</th>\n",
       "      <td>...</td>\n",
       "      <td>...</td>\n",
       "      <td>...</td>\n",
       "      <td>...</td>\n",
       "      <td>...</td>\n",
       "      <td>...</td>\n",
       "    </tr>\n",
       "    <tr>\n",
       "      <th>392</th>\n",
       "      <td>2</td>\n",
       "      <td>0</td>\n",
       "      <td>33</td>\n",
       "      <td>30</td>\n",
       "      <td>0</td>\n",
       "      <td>103106</td>\n",
       "    </tr>\n",
       "    <tr>\n",
       "      <th>393</th>\n",
       "      <td>2</td>\n",
       "      <td>0</td>\n",
       "      <td>31</td>\n",
       "      <td>19</td>\n",
       "      <td>0</td>\n",
       "      <td>150564</td>\n",
       "    </tr>\n",
       "    <tr>\n",
       "      <th>394</th>\n",
       "      <td>2</td>\n",
       "      <td>0</td>\n",
       "      <td>42</td>\n",
       "      <td>25</td>\n",
       "      <td>0</td>\n",
       "      <td>101738</td>\n",
       "    </tr>\n",
       "    <tr>\n",
       "      <th>395</th>\n",
       "      <td>2</td>\n",
       "      <td>0</td>\n",
       "      <td>25</td>\n",
       "      <td>15</td>\n",
       "      <td>0</td>\n",
       "      <td>95329</td>\n",
       "    </tr>\n",
       "    <tr>\n",
       "      <th>396</th>\n",
       "      <td>0</td>\n",
       "      <td>0</td>\n",
       "      <td>8</td>\n",
       "      <td>4</td>\n",
       "      <td>0</td>\n",
       "      <td>81035</td>\n",
       "    </tr>\n",
       "  </tbody>\n",
       "</table>\n",
       "<p>397 rows × 6 columns</p>\n",
       "</div>"
      ],
      "text/plain": [
       "     rank  discipline  yrs.since.phd  yrs.service  sex  salary\n",
       "0       2           1             19           18    0  139750\n",
       "1       2           1             20           16    0  173200\n",
       "2       0           1              4            3    0   79750\n",
       "3       2           1             45           39    0  115000\n",
       "4       2           1             40           41    0  141500\n",
       "..    ...         ...            ...          ...  ...     ...\n",
       "392     2           0             33           30    0  103106\n",
       "393     2           0             31           19    0  150564\n",
       "394     2           0             42           25    0  101738\n",
       "395     2           0             25           15    0   95329\n",
       "396     0           0              8            4    0   81035\n",
       "\n",
       "[397 rows x 6 columns]"
      ]
     },
     "execution_count": 12,
     "metadata": {},
     "output_type": "execute_result"
    }
   ],
   "source": [
    "df['rank'] = df['rank'].replace({'AsstProf':0,'AssocProf':1,'Prof':2})#This is an Ordinal fashion from lowest to highest\n",
    "df['discipline'] = df['discipline'].replace({'A':0,'B':1})\n",
    "df['sex'] = df['sex'].replace({'Male':0,'Female':1,})\n",
    "df"
   ]
  },
  {
   "cell_type": "markdown",
   "id": "ff1a074b",
   "metadata": {},
   "source": [
    "# Normal Distribution Curve"
   ]
  },
  {
   "cell_type": "code",
   "execution_count": 13,
   "id": "8f051906",
   "metadata": {},
   "outputs": [
    {
     "data": {
      "image/png": "[encoded data removed]",
      "text/plain": [
       "<Figure size 1080x576 with 6 Axes>"
      ]
     },
     "metadata": {},
     "output_type": "display_data"
    }
   ],
   "source": [
    "#Check for normal distribution and see how data is distributed for every column\n",
    "plt.figure(figsize=(15,8), facecolor='red')#dimension and line color\n",
    "plotnumber = 1 #like a form of counter which we will see its relevance in the ‘for loop’\n",
    "\n",
    "for column in df:#triggering your for loop\n",
    "    if plotnumber<=6:#since there are 6 features\n",
    "        ax = plt.subplot(2,3,plotnumber)#2,3 means arrange the graphs in 2-rows and 3-columns spaces as seen below while plotnumber means plot graphs\n",
    "        sns.distplot(df[column])#performing a distribution plot for all the columns starting with rank\n",
    "        plt.xlabel(column,fontsize=20)#labelling the x-axis with their respctive column names with a font size of 20\n",
    "    plotnumber+=1#incrementals for plot number so as to allow ploting one by one until it gets to 6\n",
    "plt.tight_layout()#This is just to show you data in a compact form. "
   ]
  },
  {
   "cell_type": "markdown",
   "id": "cfdebebc",
   "metadata": {},
   "source": [
    "# Observations on Normal Distribution\n",
    "From the above density plot we can see that the below features does not obey a normal distribution, the building blocks is out of normalized curve:\n",
    "\n",
    "- rank(has three modes present or three peak points at the 0th, 1st and 2nd mark)\n",
    "- discipline(has two modes present or two peak points at the 0th and 1st mark)\n",
    "- yrs.since.phd\n",
    "- yrs.service(has two modes present or two peak points at the 8th and 20th mark)\n",
    "- sex(has two modes present or two peak points at the 0th and 1st mark)\n",
    "\n",
    "The normal distribution of the salary is irrelevant"
   ]
  },
  {
   "cell_type": "markdown",
   "id": "5c62e408",
   "metadata": {},
   "source": [
    "# Scatter Plot\n",
    "- Lets visualize the relationship between the features and the Label"
   ]
  },
  {
   "cell_type": "code",
   "execution_count": 14,
   "id": "e2e63286",
   "metadata": {},
   "outputs": [
    {
     "data": {
      "text/html": [
       "<div>\n",
       "<style scoped>\n",
       "    .dataframe tbody tr th:only-of-type {\n",
       "        vertical-align: middle;\n",
       "    }\n",
       "\n",
       "    .dataframe tbody tr th {\n",
       "        vertical-align: top;\n",
       "    }\n",
       "\n",
       "    .dataframe thead th {\n",
       "        text-align: right;\n",
       "    }\n",
       "</style>\n",
       "<table border=\"1\" class=\"dataframe\">\n",
       "  <thead>\n",
       "    <tr style=\"text-align: right;\">\n",
       "      <th></th>\n",
       "      <th>rank</th>\n",
       "      <th>discipline</th>\n",
       "      <th>yrs.since.phd</th>\n",
       "      <th>yrs.service</th>\n",
       "      <th>sex</th>\n",
       "    </tr>\n",
       "  </thead>\n",
       "  <tbody>\n",
       "    <tr>\n",
       "      <th>0</th>\n",
       "      <td>2</td>\n",
       "      <td>1</td>\n",
       "      <td>19</td>\n",
       "      <td>18</td>\n",
       "      <td>0</td>\n",
       "    </tr>\n",
       "    <tr>\n",
       "      <th>1</th>\n",
       "      <td>2</td>\n",
       "      <td>1</td>\n",
       "      <td>20</td>\n",
       "      <td>16</td>\n",
       "      <td>0</td>\n",
       "    </tr>\n",
       "    <tr>\n",
       "      <th>2</th>\n",
       "      <td>0</td>\n",
       "      <td>1</td>\n",
       "      <td>4</td>\n",
       "      <td>3</td>\n",
       "      <td>0</td>\n",
       "    </tr>\n",
       "    <tr>\n",
       "      <th>3</th>\n",
       "      <td>2</td>\n",
       "      <td>1</td>\n",
       "      <td>45</td>\n",
       "      <td>39</td>\n",
       "      <td>0</td>\n",
       "    </tr>\n",
       "    <tr>\n",
       "      <th>4</th>\n",
       "      <td>2</td>\n",
       "      <td>1</td>\n",
       "      <td>40</td>\n",
       "      <td>41</td>\n",
       "      <td>0</td>\n",
       "    </tr>\n",
       "    <tr>\n",
       "      <th>...</th>\n",
       "      <td>...</td>\n",
       "      <td>...</td>\n",
       "      <td>...</td>\n",
       "      <td>...</td>\n",
       "      <td>...</td>\n",
       "    </tr>\n",
       "    <tr>\n",
       "      <th>392</th>\n",
       "      <td>2</td>\n",
       "      <td>0</td>\n",
       "      <td>33</td>\n",
       "      <td>30</td>\n",
       "      <td>0</td>\n",
       "    </tr>\n",
       "    <tr>\n",
       "      <th>393</th>\n",
       "      <td>2</td>\n",
       "      <td>0</td>\n",
       "      <td>31</td>\n",
       "      <td>19</td>\n",
       "      <td>0</td>\n",
       "    </tr>\n",
       "    <tr>\n",
       "      <th>394</th>\n",
       "      <td>2</td>\n",
       "      <td>0</td>\n",
       "      <td>42</td>\n",
       "      <td>25</td>\n",
       "      <td>0</td>\n",
       "    </tr>\n",
       "    <tr>\n",
       "      <th>395</th>\n",
       "      <td>2</td>\n",
       "      <td>0</td>\n",
       "      <td>25</td>\n",
       "      <td>15</td>\n",
       "      <td>0</td>\n",
       "    </tr>\n",
       "    <tr>\n",
       "      <th>396</th>\n",
       "      <td>0</td>\n",
       "      <td>0</td>\n",
       "      <td>8</td>\n",
       "      <td>4</td>\n",
       "      <td>0</td>\n",
       "    </tr>\n",
       "  </tbody>\n",
       "</table>\n",
       "<p>397 rows × 5 columns</p>\n",
       "</div>"
      ],
      "text/plain": [
       "     rank  discipline  yrs.since.phd  yrs.service  sex\n",
       "0       2           1             19           18    0\n",
       "1       2           1             20           16    0\n",
       "2       0           1              4            3    0\n",
       "3       2           1             45           39    0\n",
       "4       2           1             40           41    0\n",
       "..    ...         ...            ...          ...  ...\n",
       "392     2           0             33           30    0\n",
       "393     2           0             31           19    0\n",
       "394     2           0             42           25    0\n",
       "395     2           0             25           15    0\n",
       "396     0           0              8            4    0\n",
       "\n",
       "[397 rows x 5 columns]"
      ]
     },
     "execution_count": 14,
     "metadata": {},
     "output_type": "execute_result"
    }
   ],
   "source": [
    "#extracting only the features(wihtout the Label) from the original dataset and store in features\n",
    "features=['rank', 'discipline', 'yrs.since.phd', 'yrs.service', 'sex']\n",
    "df_features=df[features]\n",
    "df_features"
   ]
  },
  {
   "cell_type": "code",
   "execution_count": 15,
   "id": "39bc1f44",
   "metadata": {},
   "outputs": [
    {
     "data": {
      "image/png": "[encoded data removed]",
      "text/plain": [
       "<Figure size 1080x576 with 5 Axes>"
      ]
     },
     "metadata": {},
     "output_type": "display_data"
    }
   ],
   "source": [
    "#Check for the relatinship between each feature and Target\n",
    "plt.figure(figsize=(15,8), facecolor='red')#dimension and line color\n",
    "plotnumber = 1 #like a form of counter which we will see its relevance in the ‘for loop’\n",
    "\n",
    "for column in df_features:#triggering your for loop\n",
    "    if plotnumber<=6:#since there are 6 features\n",
    "        ax = plt.subplot(2,3,plotnumber)#2,3 means arrange the graphs in 2-rows and 3-columns spaces as seen below while plotnumber means plot graphs\n",
    "        sns.scatterplot(x=df_features[column],y=df['salary'])#performing a relationship plot between features and label\n",
    "        plt.xlabel(column,fontsize=20)#labelling the x-axis with their respctive column names with a font size of 20\n",
    "    plotnumber+=1#incrementals for plot number so as to allow ploting one by one until it gets to 6\n",
    "plt.tight_layout()#This is just to show you data in a compact form. "
   ]
  },
  {
   "cell_type": "markdown",
   "id": "080739f6",
   "metadata": {},
   "source": [
    "# Observations on Scatter Plot\n",
    "From the above scatter plot we can see a strong relationship between the below features and the Label(Salary)\n",
    "\n",
    " - rank\n",
    " - yrs.since.phd\n",
    " - yrs.service\n"
   ]
  },
  {
   "cell_type": "markdown",
   "id": "2b3516c1",
   "metadata": {},
   "source": [
    "# Correlation;\n",
    " - Collinearity Between Feature and Label\n",
    " - Multicolinearity between features\n",
    "\n",
    "Lets see/visualize the correlation between (Features vs Label) and (Features vs Features)"
   ]
  },
  {
   "cell_type": "code",
   "execution_count": 16,
   "id": "81d78ca5",
   "metadata": {},
   "outputs": [
    {
     "data": {
      "text/html": [
       "<div>\n",
       "<style scoped>\n",
       "    .dataframe tbody tr th:only-of-type {\n",
       "        vertical-align: middle;\n",
       "    }\n",
       "\n",
       "    .dataframe tbody tr th {\n",
       "        vertical-align: top;\n",
       "    }\n",
       "\n",
       "    .dataframe thead th {\n",
       "        text-align: right;\n",
       "    }\n",
       "</style>\n",
       "<table border=\"1\" class=\"dataframe\">\n",
       "  <thead>\n",
       "    <tr style=\"text-align: right;\">\n",
       "      <th></th>\n",
       "      <th>rank</th>\n",
       "      <th>discipline</th>\n",
       "      <th>yrs.since.phd</th>\n",
       "      <th>yrs.service</th>\n",
       "      <th>sex</th>\n",
       "      <th>salary</th>\n",
       "    </tr>\n",
       "  </thead>\n",
       "  <tbody>\n",
       "    <tr>\n",
       "      <th>rank</th>\n",
       "      <td>1.000000</td>\n",
       "      <td>-0.107365</td>\n",
       "      <td>0.700950</td>\n",
       "      <td>0.608355</td>\n",
       "      <td>-0.138556</td>\n",
       "      <td>0.617224</td>\n",
       "    </tr>\n",
       "    <tr>\n",
       "      <th>discipline</th>\n",
       "      <td>-0.107365</td>\n",
       "      <td>1.000000</td>\n",
       "      <td>-0.218087</td>\n",
       "      <td>-0.164599</td>\n",
       "      <td>-0.003724</td>\n",
       "      <td>0.156084</td>\n",
       "    </tr>\n",
       "    <tr>\n",
       "      <th>yrs.since.phd</th>\n",
       "      <td>0.700950</td>\n",
       "      <td>-0.218087</td>\n",
       "      <td>1.000000</td>\n",
       "      <td>0.909649</td>\n",
       "      <td>-0.148788</td>\n",
       "      <td>0.419231</td>\n",
       "    </tr>\n",
       "    <tr>\n",
       "      <th>yrs.service</th>\n",
       "      <td>0.608355</td>\n",
       "      <td>-0.164599</td>\n",
       "      <td>0.909649</td>\n",
       "      <td>1.000000</td>\n",
       "      <td>-0.153740</td>\n",
       "      <td>0.334745</td>\n",
       "    </tr>\n",
       "    <tr>\n",
       "      <th>sex</th>\n",
       "      <td>-0.138556</td>\n",
       "      <td>-0.003724</td>\n",
       "      <td>-0.148788</td>\n",
       "      <td>-0.153740</td>\n",
       "      <td>1.000000</td>\n",
       "      <td>-0.138610</td>\n",
       "    </tr>\n",
       "    <tr>\n",
       "      <th>salary</th>\n",
       "      <td>0.617224</td>\n",
       "      <td>0.156084</td>\n",
       "      <td>0.419231</td>\n",
       "      <td>0.334745</td>\n",
       "      <td>-0.138610</td>\n",
       "      <td>1.000000</td>\n",
       "    </tr>\n",
       "  </tbody>\n",
       "</table>\n",
       "</div>"
      ],
      "text/plain": [
       "                   rank  discipline  yrs.since.phd  yrs.service       sex  \\\n",
       "rank           1.000000   -0.107365       0.700950     0.608355 -0.138556   \n",
       "discipline    -0.107365    1.000000      -0.218087    -0.164599 -0.003724   \n",
       "yrs.since.phd  0.700950   -0.218087       1.000000     0.909649 -0.148788   \n",
       "yrs.service    0.608355   -0.164599       0.909649     1.000000 -0.153740   \n",
       "sex           -0.138556   -0.003724      -0.148788    -0.153740  1.000000   \n",
       "salary         0.617224    0.156084       0.419231     0.334745 -0.138610   \n",
       "\n",
       "                 salary  \n",
       "rank           0.617224  \n",
       "discipline     0.156084  \n",
       "yrs.since.phd  0.419231  \n",
       "yrs.service    0.334745  \n",
       "sex           -0.138610  \n",
       "salary         1.000000  "
      ]
     },
     "execution_count": 16,
     "metadata": {},
     "output_type": "execute_result"
    }
   ],
   "source": [
    "#checking for general correlation\n",
    "df.corr()"
   ]
  },
  {
   "cell_type": "code",
   "execution_count": 17,
   "id": "8f03b743",
   "metadata": {},
   "outputs": [
    {
     "data": {
      "text/plain": [
       "sex             -0.138610\n",
       "discipline       0.156084\n",
       "yrs.service      0.334745\n",
       "yrs.since.phd    0.419231\n",
       "rank             0.617224\n",
       "salary           1.000000\n",
       "Name: salary, dtype: float64"
      ]
     },
     "execution_count": 17,
     "metadata": {},
     "output_type": "execute_result"
    }
   ],
   "source": [
    "#checking for correlation between each feature and Label\n",
    "df.corr()['salary'].sort_values()"
   ]
  },
  {
   "cell_type": "code",
   "execution_count": 18,
   "id": "8acfd369",
   "metadata": {},
   "outputs": [
    {
     "data": {
      "text/plain": [
       "<AxesSubplot:>"
      ]
     },
     "execution_count": 18,
     "metadata": {},
     "output_type": "execute_result"
    },
    {
     "data": {
      "image/png": "[encoded data removed]",
      "text/plain": [
       "<Figure size 1080x504 with 2 Axes>"
      ]
     },
     "metadata": {
      "needs_background": "light"
     },
     "output_type": "display_data"
    }
   ],
   "source": [
    "#Plotting a heatmap to show correlation through the brightness of the map-squares\n",
    "plt.figure(figsize=(15,7))\n",
    "sns.heatmap(df.corr(),annot=True, linewidth=0,linecolor='black',fmt='.2f')"
   ]
  },
  {
   "cell_type": "markdown",
   "id": "76ffc3b2",
   "metadata": {},
   "source": [
    "# Observations on Correlation\n",
    "All the feature-columns of the datasets are positively correlated with the target column except 'sex' column. While two features can be seen to have a strong correlation with each other. Below are the summary of correlation;\n",
    "\n",
    "Collinearity:\n",
    " - sex has a negative correlation with the target column which can be considered as NO BOND AT ALL!\n",
    " - discipline has 16 percent correlation with the target column which can be considered as a fairly good bond.\n",
    " - yrs.service has a 33 percent correlation with the target column which can be considered as a good bond.\n",
    " - yrs.since.phd has 41 percent correlation with the target column which can be considered as a strong bond.\n",
    " - rank has a 61 percent correlation with the target column which can be considered as a very strong bond.\n",
    " - Max correlation = rank\n",
    " - Min Correlation = sex\n",
    " \n",
    "Multicollinearity:\n",
    " - From the heatmap we can see that yrs.service and yrs.since.phd has a correlation of 91 percent which is considered as a very strong bond.\n",
    "\n",
    "\n",
    "NB: Multicollinnearity means two variables are explaining the same thing, meaning one of them is useless and therefore we have to drop one of them!"
   ]
  },
  {
   "cell_type": "markdown",
   "id": "0dd66df6",
   "metadata": {},
   "source": [
    "# Outlier Checking"
   ]
  },
  {
   "cell_type": "code",
   "execution_count": 19,
   "id": "eb5c789f",
   "metadata": {},
   "outputs": [
    {
     "data": {
      "image/png": "[encoded data removed]",
      "text/plain": [
       "<Figure size 1080x648 with 6 Axes>"
      ]
     },
     "metadata": {
      "needs_background": "light"
     },
     "output_type": "display_data"
    }
   ],
   "source": [
    "#Check for allien-datapoints in each column data\n",
    "plt.figure(figsize=(15,9))#dimension only\n",
    "graph = 1 #like a form of counter which we will see its relevance in the ‘for loop’\n",
    "\n",
    "for column in df:#triggering your for loop\n",
    "    if graph<=6:#this was made 6 just to allow for 6 spaces\n",
    "        plt.subplot(2,3,graph)#2,3 means arrange the graphs in 2-rows and 3-columns spaces as seen below while plotnumber means plot graphs\n",
    "        ax=sns.boxplot(data=df[column])#performing a box plot starting with rank\n",
    "        plt.xlabel(column,fontsize=10)#labelling the x-axis with their respctive column names with a font size of 20\n",
    "    graph+=1#incrementals for plot number so as to allow ploting one by one until it gets to 9\n",
    "plt.tight_layout()#This is just to show you data in a compact form."
   ]
  },
  {
   "cell_type": "markdown",
   "id": "3c301a80",
   "metadata": {},
   "source": [
    "# Observations on Outlier Checking\n",
    "From the above we can see that in the columns;\n",
    " - The features;  yrs,services and sex has little or no outliers\n",
    " - The Label; salary has little outliers"
   ]
  },
  {
   "cell_type": "markdown",
   "id": "78089033",
   "metadata": {},
   "source": [
    "# Skewness Checking"
   ]
  },
  {
   "cell_type": "code",
   "execution_count": 20,
   "id": "27e52755",
   "metadata": {},
   "outputs": [
    {
     "data": {
      "text/plain": [
       "rank            -1.132759\n",
       "discipline      -0.177684\n",
       "yrs.since.phd    0.300880\n",
       "yrs.service      0.650569\n",
       "sex              2.709958\n",
       "salary           0.714568\n",
       "dtype: float64"
      ]
     },
     "execution_count": 20,
     "metadata": {},
     "output_type": "execute_result"
    }
   ],
   "source": [
    "#Checking for geenral Skewness\n",
    "df.skew()"
   ]
  },
  {
   "cell_type": "markdown",
   "id": "07854f89",
   "metadata": {},
   "source": [
    "# Observations on skewness: \n",
    "Lets assume Skewness threshold is taken as +/-0.65.Meaning any value outside +/-0.65 contains skewness. Hence Columns which are having skewness:\n",
    "\n",
    " - rank\n",
    " - sex\n",
    " - salary\n"
   ]
  },
  {
   "cell_type": "markdown",
   "id": "b3979806",
   "metadata": {},
   "source": [
    "# Step 4 - DATA PREPROCESSING"
   ]
  },
  {
   "cell_type": "markdown",
   "id": "91ea0284",
   "metadata": {},
   "source": [
    "# Removal of Duplicates"
   ]
  },
  {
   "cell_type": "code",
   "execution_count": 21,
   "id": "e112bfb5",
   "metadata": {},
   "outputs": [
    {
     "data": {
      "text/plain": [
       "(393, 6)"
      ]
     },
     "execution_count": 21,
     "metadata": {},
     "output_type": "execute_result"
    }
   ],
   "source": [
    "#Remove duplicates\n",
    "df.drop_duplicates(inplace=True)\n",
    "df.shape"
   ]
  },
  {
   "cell_type": "markdown",
   "id": "ff1a38f7",
   "metadata": {},
   "source": [
    " - It appears there are four rows which the same data across each columns and has been removed since the rows has decreased from 397 to 393"
   ]
  },
  {
   "cell_type": "markdown",
   "id": "e17b7a23",
   "metadata": {},
   "source": [
    "# Dropping of Features with Poor Correlation wrt Target"
   ]
  },
  {
   "cell_type": "code",
   "execution_count": 22,
   "id": "594f74a9",
   "metadata": {},
   "outputs": [
    {
     "data": {
      "text/plain": [
       "sex             -0.141521\n",
       "discipline       0.164018\n",
       "yrs.service      0.329624\n",
       "yrs.since.phd    0.414042\n",
       "rank             0.616490\n",
       "salary           1.000000\n",
       "Name: salary, dtype: float64"
      ]
     },
     "execution_count": 22,
     "metadata": {},
     "output_type": "execute_result"
    }
   ],
   "source": [
    "#Checking the correlation with respect to the Label column\n",
    "df.corr()['salary'].sort_values()"
   ]
  },
  {
   "cell_type": "markdown",
   "id": "f310bf37",
   "metadata": {},
   "source": [
    "Here we are setting threshold of correlation as +/-0.15, meaning any correlation outside +/-0.15 is assumed to be a strong correlation. it is not standard. The dataset demands.\n",
    "\n",
    "In lieu of the above assumption, we have to drop 'sex' since its correlation is within +/-0.15!"
   ]
  },
  {
   "cell_type": "code",
   "execution_count": 23,
   "id": "9a538250",
   "metadata": {},
   "outputs": [
    {
     "data": {
      "text/html": [
       "<div>\n",
       "<style scoped>\n",
       "    .dataframe tbody tr th:only-of-type {\n",
       "        vertical-align: middle;\n",
       "    }\n",
       "\n",
       "    .dataframe tbody tr th {\n",
       "        vertical-align: top;\n",
       "    }\n",
       "\n",
       "    .dataframe thead th {\n",
       "        text-align: right;\n",
       "    }\n",
       "</style>\n",
       "<table border=\"1\" class=\"dataframe\">\n",
       "  <thead>\n",
       "    <tr style=\"text-align: right;\">\n",
       "      <th></th>\n",
       "      <th>rank</th>\n",
       "      <th>discipline</th>\n",
       "      <th>yrs.since.phd</th>\n",
       "      <th>yrs.service</th>\n",
       "      <th>salary</th>\n",
       "    </tr>\n",
       "  </thead>\n",
       "  <tbody>\n",
       "    <tr>\n",
       "      <th>0</th>\n",
       "      <td>2</td>\n",
       "      <td>1</td>\n",
       "      <td>19</td>\n",
       "      <td>18</td>\n",
       "      <td>139750</td>\n",
       "    </tr>\n",
       "    <tr>\n",
       "      <th>1</th>\n",
       "      <td>2</td>\n",
       "      <td>1</td>\n",
       "      <td>20</td>\n",
       "      <td>16</td>\n",
       "      <td>173200</td>\n",
       "    </tr>\n",
       "    <tr>\n",
       "      <th>2</th>\n",
       "      <td>0</td>\n",
       "      <td>1</td>\n",
       "      <td>4</td>\n",
       "      <td>3</td>\n",
       "      <td>79750</td>\n",
       "    </tr>\n",
       "    <tr>\n",
       "      <th>3</th>\n",
       "      <td>2</td>\n",
       "      <td>1</td>\n",
       "      <td>45</td>\n",
       "      <td>39</td>\n",
       "      <td>115000</td>\n",
       "    </tr>\n",
       "    <tr>\n",
       "      <th>4</th>\n",
       "      <td>2</td>\n",
       "      <td>1</td>\n",
       "      <td>40</td>\n",
       "      <td>41</td>\n",
       "      <td>141500</td>\n",
       "    </tr>\n",
       "    <tr>\n",
       "      <th>...</th>\n",
       "      <td>...</td>\n",
       "      <td>...</td>\n",
       "      <td>...</td>\n",
       "      <td>...</td>\n",
       "      <td>...</td>\n",
       "    </tr>\n",
       "    <tr>\n",
       "      <th>392</th>\n",
       "      <td>2</td>\n",
       "      <td>0</td>\n",
       "      <td>33</td>\n",
       "      <td>30</td>\n",
       "      <td>103106</td>\n",
       "    </tr>\n",
       "    <tr>\n",
       "      <th>393</th>\n",
       "      <td>2</td>\n",
       "      <td>0</td>\n",
       "      <td>31</td>\n",
       "      <td>19</td>\n",
       "      <td>150564</td>\n",
       "    </tr>\n",
       "    <tr>\n",
       "      <th>394</th>\n",
       "      <td>2</td>\n",
       "      <td>0</td>\n",
       "      <td>42</td>\n",
       "      <td>25</td>\n",
       "      <td>101738</td>\n",
       "    </tr>\n",
       "    <tr>\n",
       "      <th>395</th>\n",
       "      <td>2</td>\n",
       "      <td>0</td>\n",
       "      <td>25</td>\n",
       "      <td>15</td>\n",
       "      <td>95329</td>\n",
       "    </tr>\n",
       "    <tr>\n",
       "      <th>396</th>\n",
       "      <td>0</td>\n",
       "      <td>0</td>\n",
       "      <td>8</td>\n",
       "      <td>4</td>\n",
       "      <td>81035</td>\n",
       "    </tr>\n",
       "  </tbody>\n",
       "</table>\n",
       "<p>393 rows × 5 columns</p>\n",
       "</div>"
      ],
      "text/plain": [
       "     rank  discipline  yrs.since.phd  yrs.service  salary\n",
       "0       2           1             19           18  139750\n",
       "1       2           1             20           16  173200\n",
       "2       0           1              4            3   79750\n",
       "3       2           1             45           39  115000\n",
       "4       2           1             40           41  141500\n",
       "..    ...         ...            ...          ...     ...\n",
       "392     2           0             33           30  103106\n",
       "393     2           0             31           19  150564\n",
       "394     2           0             42           25  101738\n",
       "395     2           0             25           15   95329\n",
       "396     0           0              8            4   81035\n",
       "\n",
       "[393 rows x 5 columns]"
      ]
     },
     "execution_count": 23,
     "metadata": {},
     "output_type": "execute_result"
    }
   ],
   "source": [
    "#Dropping columns as stated\n",
    "df=df.drop(columns=['sex'],axis=1)\n",
    "df"
   ]
  },
  {
   "cell_type": "markdown",
   "id": "2583bfbf",
   "metadata": {},
   "source": [
    "# Dropping of Features that strongly promotes multicollinearity"
   ]
  },
  {
   "cell_type": "code",
   "execution_count": 24,
   "id": "cb13d2e1",
   "metadata": {},
   "outputs": [
    {
     "data": {
      "text/plain": [
       "<AxesSubplot:>"
      ]
     },
     "execution_count": 24,
     "metadata": {},
     "output_type": "execute_result"
    },
    {
     "data": {
      "image/png": "[encoded data removed]",
      "text/plain": [
       "<Figure size 1080x504 with 2 Axes>"
      ]
     },
     "metadata": {
      "needs_background": "light"
     },
     "output_type": "display_data"
    }
   ],
   "source": [
    "#Lets have a view of the heatmap again with particular focus on map-squares that are more brightened\n",
    "plt.figure(figsize=(15,7))\n",
    "sns.heatmap(df.corr(),annot=True, linewidth=0,linecolor='black',fmt='.2f')"
   ]
  },
  {
   "cell_type": "markdown",
   "id": "3c50e864",
   "metadata": {},
   "source": [
    "- From the heatmap above we can see that yrs.service and yrs.since.phd has a correlation of 91 percent which is considered as a very strong bond. This means we have to drop one of them\n",
    "\n",
    "Choice on which feature to drop between the two?\n",
    "- Recall that the correlation between the two features and label looking at the heatmap above is;\n",
    "  - yrs.service      0.329624(33%)\n",
    "  - yrs.since.phd    0.414042(41%)\n",
    "\n",
    "Hence we drop the feature with the lower correlation with the label! i.e yrs.service!"
   ]
  },
  {
   "cell_type": "code",
   "execution_count": 25,
   "id": "345e2617",
   "metadata": {},
   "outputs": [
    {
     "data": {
      "text/html": [
       "<div>\n",
       "<style scoped>\n",
       "    .dataframe tbody tr th:only-of-type {\n",
       "        vertical-align: middle;\n",
       "    }\n",
       "\n",
       "    .dataframe tbody tr th {\n",
       "        vertical-align: top;\n",
       "    }\n",
       "\n",
       "    .dataframe thead th {\n",
       "        text-align: right;\n",
       "    }\n",
       "</style>\n",
       "<table border=\"1\" class=\"dataframe\">\n",
       "  <thead>\n",
       "    <tr style=\"text-align: right;\">\n",
       "      <th></th>\n",
       "      <th>rank</th>\n",
       "      <th>discipline</th>\n",
       "      <th>yrs.since.phd</th>\n",
       "      <th>salary</th>\n",
       "    </tr>\n",
       "  </thead>\n",
       "  <tbody>\n",
       "    <tr>\n",
       "      <th>0</th>\n",
       "      <td>2</td>\n",
       "      <td>1</td>\n",
       "      <td>19</td>\n",
       "      <td>139750</td>\n",
       "    </tr>\n",
       "    <tr>\n",
       "      <th>1</th>\n",
       "      <td>2</td>\n",
       "      <td>1</td>\n",
       "      <td>20</td>\n",
       "      <td>173200</td>\n",
       "    </tr>\n",
       "    <tr>\n",
       "      <th>2</th>\n",
       "      <td>0</td>\n",
       "      <td>1</td>\n",
       "      <td>4</td>\n",
       "      <td>79750</td>\n",
       "    </tr>\n",
       "    <tr>\n",
       "      <th>3</th>\n",
       "      <td>2</td>\n",
       "      <td>1</td>\n",
       "      <td>45</td>\n",
       "      <td>115000</td>\n",
       "    </tr>\n",
       "    <tr>\n",
       "      <th>4</th>\n",
       "      <td>2</td>\n",
       "      <td>1</td>\n",
       "      <td>40</td>\n",
       "      <td>141500</td>\n",
       "    </tr>\n",
       "    <tr>\n",
       "      <th>...</th>\n",
       "      <td>...</td>\n",
       "      <td>...</td>\n",
       "      <td>...</td>\n",
       "      <td>...</td>\n",
       "    </tr>\n",
       "    <tr>\n",
       "      <th>392</th>\n",
       "      <td>2</td>\n",
       "      <td>0</td>\n",
       "      <td>33</td>\n",
       "      <td>103106</td>\n",
       "    </tr>\n",
       "    <tr>\n",
       "      <th>393</th>\n",
       "      <td>2</td>\n",
       "      <td>0</td>\n",
       "      <td>31</td>\n",
       "      <td>150564</td>\n",
       "    </tr>\n",
       "    <tr>\n",
       "      <th>394</th>\n",
       "      <td>2</td>\n",
       "      <td>0</td>\n",
       "      <td>42</td>\n",
       "      <td>101738</td>\n",
       "    </tr>\n",
       "    <tr>\n",
       "      <th>395</th>\n",
       "      <td>2</td>\n",
       "      <td>0</td>\n",
       "      <td>25</td>\n",
       "      <td>95329</td>\n",
       "    </tr>\n",
       "    <tr>\n",
       "      <th>396</th>\n",
       "      <td>0</td>\n",
       "      <td>0</td>\n",
       "      <td>8</td>\n",
       "      <td>81035</td>\n",
       "    </tr>\n",
       "  </tbody>\n",
       "</table>\n",
       "<p>393 rows × 4 columns</p>\n",
       "</div>"
      ],
      "text/plain": [
       "     rank  discipline  yrs.since.phd  salary\n",
       "0       2           1             19  139750\n",
       "1       2           1             20  173200\n",
       "2       0           1              4   79750\n",
       "3       2           1             45  115000\n",
       "4       2           1             40  141500\n",
       "..    ...         ...            ...     ...\n",
       "392     2           0             33  103106\n",
       "393     2           0             31  150564\n",
       "394     2           0             42  101738\n",
       "395     2           0             25   95329\n",
       "396     0           0              8   81035\n",
       "\n",
       "[393 rows x 4 columns]"
      ]
     },
     "execution_count": 25,
     "metadata": {},
     "output_type": "execute_result"
    }
   ],
   "source": [
    "#Dropping column as stated\n",
    "df=df.drop(columns=['yrs.service'],axis=1)\n",
    "df"
   ]
  },
  {
   "cell_type": "markdown",
   "id": "99e99176",
   "metadata": {},
   "source": [
    "# Removal of Outliers"
   ]
  },
  {
   "cell_type": "code",
   "execution_count": 26,
   "id": "308ba855",
   "metadata": {},
   "outputs": [
    {
     "data": {
      "text/html": [
       "<div>\n",
       "<style scoped>\n",
       "    .dataframe tbody tr th:only-of-type {\n",
       "        vertical-align: middle;\n",
       "    }\n",
       "\n",
       "    .dataframe tbody tr th {\n",
       "        vertical-align: top;\n",
       "    }\n",
       "\n",
       "    .dataframe thead th {\n",
       "        text-align: right;\n",
       "    }\n",
       "</style>\n",
       "<table border=\"1\" class=\"dataframe\">\n",
       "  <thead>\n",
       "    <tr style=\"text-align: right;\">\n",
       "      <th></th>\n",
       "      <th>rank</th>\n",
       "      <th>discipline</th>\n",
       "      <th>yrs.since.phd</th>\n",
       "      <th>salary</th>\n",
       "    </tr>\n",
       "  </thead>\n",
       "  <tbody>\n",
       "    <tr>\n",
       "      <th>0</th>\n",
       "      <td>0.640170</td>\n",
       "      <td>0.923999</td>\n",
       "      <td>0.273772</td>\n",
       "      <td>0.851500</td>\n",
       "    </tr>\n",
       "    <tr>\n",
       "      <th>1</th>\n",
       "      <td>0.640170</td>\n",
       "      <td>0.923999</td>\n",
       "      <td>0.195636</td>\n",
       "      <td>1.954661</td>\n",
       "    </tr>\n",
       "    <tr>\n",
       "      <th>2</th>\n",
       "      <td>2.008112</td>\n",
       "      <td>0.923999</td>\n",
       "      <td>1.445800</td>\n",
       "      <td>1.127264</td>\n",
       "    </tr>\n",
       "    <tr>\n",
       "      <th>3</th>\n",
       "      <td>0.640170</td>\n",
       "      <td>0.923999</td>\n",
       "      <td>1.757745</td>\n",
       "      <td>0.035260</td>\n",
       "    </tr>\n",
       "    <tr>\n",
       "      <th>4</th>\n",
       "      <td>0.640170</td>\n",
       "      <td>0.923999</td>\n",
       "      <td>1.367068</td>\n",
       "      <td>0.909214</td>\n",
       "    </tr>\n",
       "    <tr>\n",
       "      <th>...</th>\n",
       "      <td>...</td>\n",
       "      <td>...</td>\n",
       "      <td>...</td>\n",
       "      <td>...</td>\n",
       "    </tr>\n",
       "    <tr>\n",
       "      <th>392</th>\n",
       "      <td>0.640170</td>\n",
       "      <td>1.082253</td>\n",
       "      <td>0.820122</td>\n",
       "      <td>0.356997</td>\n",
       "    </tr>\n",
       "    <tr>\n",
       "      <th>393</th>\n",
       "      <td>0.640170</td>\n",
       "      <td>1.082253</td>\n",
       "      <td>0.663851</td>\n",
       "      <td>1.208140</td>\n",
       "    </tr>\n",
       "    <tr>\n",
       "      <th>394</th>\n",
       "      <td>0.640170</td>\n",
       "      <td>1.082253</td>\n",
       "      <td>1.523339</td>\n",
       "      <td>0.402113</td>\n",
       "    </tr>\n",
       "    <tr>\n",
       "      <th>395</th>\n",
       "      <td>0.640170</td>\n",
       "      <td>1.082253</td>\n",
       "      <td>0.195040</td>\n",
       "      <td>0.613478</td>\n",
       "    </tr>\n",
       "    <tr>\n",
       "      <th>396</th>\n",
       "      <td>2.008112</td>\n",
       "      <td>1.082253</td>\n",
       "      <td>1.133259</td>\n",
       "      <td>1.084885</td>\n",
       "    </tr>\n",
       "  </tbody>\n",
       "</table>\n",
       "<p>393 rows × 4 columns</p>\n",
       "</div>"
      ],
      "text/plain": [
       "         rank  discipline  yrs.since.phd    salary\n",
       "0    0.640170    0.923999       0.273772  0.851500\n",
       "1    0.640170    0.923999       0.195636  1.954661\n",
       "2    2.008112    0.923999       1.445800  1.127264\n",
       "3    0.640170    0.923999       1.757745  0.035260\n",
       "4    0.640170    0.923999       1.367068  0.909214\n",
       "..        ...         ...            ...       ...\n",
       "392  0.640170    1.082253       0.820122  0.356997\n",
       "393  0.640170    1.082253       0.663851  1.208140\n",
       "394  0.640170    1.082253       1.523339  0.402113\n",
       "395  0.640170    1.082253       0.195040  0.613478\n",
       "396  2.008112    1.082253       1.133259  1.084885\n",
       "\n",
       "[393 rows x 4 columns]"
      ]
     },
     "execution_count": 26,
     "metadata": {},
     "output_type": "execute_result"
    }
   ],
   "source": [
    "#Get the absolute value of the zscore of the remaining dataset\n",
    "np.abs(zscore(df))"
   ]
  },
  {
   "cell_type": "code",
   "execution_count": 27,
   "id": "bd2fc47e",
   "metadata": {},
   "outputs": [
    {
     "data": {
      "text/plain": [
       "(393, 4)"
      ]
     },
     "execution_count": 27,
     "metadata": {},
     "output_type": "execute_result"
    }
   ],
   "source": [
    "#checking the data shape\n",
    "z=np.abs(zscore(df))\n",
    "z.shape"
   ]
  },
  {
   "cell_type": "markdown",
   "id": "2dd53c88",
   "metadata": {},
   "source": [
    "Now we are setting threshold of outlier zscore>3, meaning any zscore above 3 is assumed to be an Outlier. Again, its not standard. The dataset demands."
   ]
  },
  {
   "cell_type": "code",
   "execution_count": 28,
   "id": "3e83a7e5",
   "metadata": {},
   "outputs": [
    {
     "data": {
      "text/plain": [
       "(array([ 43, 360], dtype=int64), array([3, 3], dtype=int64))"
      ]
     },
     "execution_count": 28,
     "metadata": {},
     "output_type": "execute_result"
    }
   ],
   "source": [
    "#index number\n",
    "np.where(z>3)"
   ]
  },
  {
   "cell_type": "code",
   "execution_count": 29,
   "id": "91fda66c",
   "metadata": {},
   "outputs": [
    {
     "name": "stdout",
     "output_type": "stream",
     "text": [
      "Old DataFrame (393, 4)\n",
      "New DataFrame (391, 4)\n",
      "total_dropped_rows 2\n"
     ]
    }
   ],
   "source": [
    "#Extracting out the non-outliers(i.e zscore<3) and storing output in new object\n",
    "df_new=df[(z<3).all(axis=1)]\n",
    "print(\"Old DataFrame\",df.shape)\n",
    "print(\"New DataFrame\",df_new.shape)#Data without outliers\n",
    "print(\"total_dropped_rows\",df.shape[0]-df_new.shape[0])#Take note of this arithmetic in df.shape"
   ]
  },
  {
   "cell_type": "code",
   "execution_count": 30,
   "id": "f5bd140d",
   "metadata": {},
   "outputs": [
    {
     "data": {
      "text/html": [
       "<div>\n",
       "<style scoped>\n",
       "    .dataframe tbody tr th:only-of-type {\n",
       "        vertical-align: middle;\n",
       "    }\n",
       "\n",
       "    .dataframe tbody tr th {\n",
       "        vertical-align: top;\n",
       "    }\n",
       "\n",
       "    .dataframe thead th {\n",
       "        text-align: right;\n",
       "    }\n",
       "</style>\n",
       "<table border=\"1\" class=\"dataframe\">\n",
       "  <thead>\n",
       "    <tr style=\"text-align: right;\">\n",
       "      <th></th>\n",
       "      <th>rank</th>\n",
       "      <th>discipline</th>\n",
       "      <th>yrs.since.phd</th>\n",
       "      <th>salary</th>\n",
       "    </tr>\n",
       "  </thead>\n",
       "  <tbody>\n",
       "    <tr>\n",
       "      <th>0</th>\n",
       "      <td>2</td>\n",
       "      <td>1</td>\n",
       "      <td>19</td>\n",
       "      <td>139750</td>\n",
       "    </tr>\n",
       "    <tr>\n",
       "      <th>1</th>\n",
       "      <td>2</td>\n",
       "      <td>1</td>\n",
       "      <td>20</td>\n",
       "      <td>173200</td>\n",
       "    </tr>\n",
       "    <tr>\n",
       "      <th>2</th>\n",
       "      <td>0</td>\n",
       "      <td>1</td>\n",
       "      <td>4</td>\n",
       "      <td>79750</td>\n",
       "    </tr>\n",
       "    <tr>\n",
       "      <th>3</th>\n",
       "      <td>2</td>\n",
       "      <td>1</td>\n",
       "      <td>45</td>\n",
       "      <td>115000</td>\n",
       "    </tr>\n",
       "    <tr>\n",
       "      <th>4</th>\n",
       "      <td>2</td>\n",
       "      <td>1</td>\n",
       "      <td>40</td>\n",
       "      <td>141500</td>\n",
       "    </tr>\n",
       "    <tr>\n",
       "      <th>...</th>\n",
       "      <td>...</td>\n",
       "      <td>...</td>\n",
       "      <td>...</td>\n",
       "      <td>...</td>\n",
       "    </tr>\n",
       "    <tr>\n",
       "      <th>392</th>\n",
       "      <td>2</td>\n",
       "      <td>0</td>\n",
       "      <td>33</td>\n",
       "      <td>103106</td>\n",
       "    </tr>\n",
       "    <tr>\n",
       "      <th>393</th>\n",
       "      <td>2</td>\n",
       "      <td>0</td>\n",
       "      <td>31</td>\n",
       "      <td>150564</td>\n",
       "    </tr>\n",
       "    <tr>\n",
       "      <th>394</th>\n",
       "      <td>2</td>\n",
       "      <td>0</td>\n",
       "      <td>42</td>\n",
       "      <td>101738</td>\n",
       "    </tr>\n",
       "    <tr>\n",
       "      <th>395</th>\n",
       "      <td>2</td>\n",
       "      <td>0</td>\n",
       "      <td>25</td>\n",
       "      <td>95329</td>\n",
       "    </tr>\n",
       "    <tr>\n",
       "      <th>396</th>\n",
       "      <td>0</td>\n",
       "      <td>0</td>\n",
       "      <td>8</td>\n",
       "      <td>81035</td>\n",
       "    </tr>\n",
       "  </tbody>\n",
       "</table>\n",
       "<p>391 rows × 4 columns</p>\n",
       "</div>"
      ],
      "text/plain": [
       "     rank  discipline  yrs.since.phd  salary\n",
       "0       2           1             19  139750\n",
       "1       2           1             20  173200\n",
       "2       0           1              4   79750\n",
       "3       2           1             45  115000\n",
       "4       2           1             40  141500\n",
       "..    ...         ...            ...     ...\n",
       "392     2           0             33  103106\n",
       "393     2           0             31  150564\n",
       "394     2           0             42  101738\n",
       "395     2           0             25   95329\n",
       "396     0           0              8   81035\n",
       "\n",
       "[391 rows x 4 columns]"
      ]
     },
     "execution_count": 30,
     "metadata": {},
     "output_type": "execute_result"
    }
   ],
   "source": [
    "#Checking the new dataframe with non-outliers\n",
    "df_new"
   ]
  },
  {
   "cell_type": "markdown",
   "id": "8a3bd353",
   "metadata": {},
   "source": [
    "# Transforming Data to Remove Skewness using Power transformation"
   ]
  },
  {
   "cell_type": "code",
   "execution_count": 31,
   "id": "dfe967d5",
   "metadata": {},
   "outputs": [],
   "source": [
    "#Firstly, replacing zero values with the mean of the Label(since its a continuos data), and from domain knowledge we cannot have zero salary!\n",
    "df_new['salary']=df_new['salary'].replace(0,df_new['salary'].mean())"
   ]
  },
  {
   "cell_type": "code",
   "execution_count": 32,
   "id": "1d34d8b2",
   "metadata": {},
   "outputs": [
    {
     "data": {
      "text/plain": [
       "\"\\nparameters:\\nmethod = 'box-cox' or 'yeo-johnson'\\n\""
      ]
     },
     "execution_count": 32,
     "metadata": {},
     "output_type": "execute_result"
    }
   ],
   "source": [
    "#Instantiating PowerTransformer,using 'yeo-johnson',into object 'scaler'\n",
    "scaler = PowerTransformer(method ='yeo-johnson')#intstantiating using the yeo-johnson\n",
    "'''\n",
    "parameters:\n",
    "method = 'box-cox' or 'yeo-johnson'\n",
    "'''"
   ]
  },
  {
   "cell_type": "code",
   "execution_count": 33,
   "id": "549b504f",
   "metadata": {},
   "outputs": [],
   "source": [
    "#extracting the columns that are skewed\n",
    "data=['yrs.since.phd','salary']"
   ]
  },
  {
   "cell_type": "code",
   "execution_count": 34,
   "id": "de4dc708",
   "metadata": {},
   "outputs": [],
   "source": [
    "#Now removing skewness by Power Transformation and updating dataset(df_new) with result\n",
    "df_new[data] = scaler.fit_transform(df_new[data].values)"
   ]
  },
  {
   "cell_type": "markdown",
   "id": "fc50c4e4",
   "metadata": {},
   "source": [
    "# Seperating the datasets into Features and Target"
   ]
  },
  {
   "cell_type": "code",
   "execution_count": 35,
   "id": "9bca4936",
   "metadata": {},
   "outputs": [],
   "source": [
    "#seperation\n",
    "X=df_new.drop(columns=['salary'])\n",
    "Y=df_new['salary']"
   ]
  },
  {
   "cell_type": "markdown",
   "id": "c5b0bad9",
   "metadata": {},
   "source": [
    "# Transforming data into standard normal distribution"
   ]
  },
  {
   "cell_type": "code",
   "execution_count": 36,
   "id": "a49cff4b",
   "metadata": {},
   "outputs": [
    {
     "data": {
      "text/plain": [
       "array([[ 0.64247879,  0.92362361, -0.14120033],\n",
       "       [ 0.64247879,  0.92362361, -0.06217733],\n",
       "       [-2.00182866,  0.92362361, -1.65367331],\n",
       "       ...,\n",
       "       [ 0.64247879, -1.08269212,  1.40293045],\n",
       "       [ 0.64247879, -1.08269212,  0.31176354],\n",
       "       [-2.00182866, -1.08269212, -1.15814098]])"
      ]
     },
     "execution_count": 36,
     "metadata": {},
     "output_type": "execute_result"
    }
   ],
   "source": [
    "#transforming dataset into a standard normal distribution\n",
    "scalar=StandardScaler()\n",
    "X_Scaled = scalar.fit_transform(X)\n",
    "X_Scaled"
   ]
  },
  {
   "cell_type": "markdown",
   "id": "c9d436f2",
   "metadata": {},
   "source": [
    "What standard scaler does is to bring mean to zero and standard deviation to 1"
   ]
  },
  {
   "cell_type": "code",
   "execution_count": 37,
   "id": "e0df51b7",
   "metadata": {},
   "outputs": [
    {
     "data": {
      "text/plain": [
       "-2.4229931313217398e-17"
      ]
     },
     "execution_count": 37,
     "metadata": {},
     "output_type": "execute_result"
    }
   ],
   "source": [
    "#reconfirming that mean is 0\n",
    "X_Scaled.mean()"
   ]
  },
  {
   "cell_type": "code",
   "execution_count": 38,
   "id": "c70893ca",
   "metadata": {},
   "outputs": [
    {
     "data": {
      "text/plain": [
       "1.0000000000000002"
      ]
     },
     "execution_count": 38,
     "metadata": {},
     "output_type": "execute_result"
    }
   ],
   "source": [
    "#reconfirming that standard deviation is 1\n",
    "X_Scaled.std()"
   ]
  },
  {
   "cell_type": "markdown",
   "id": "e68a364a",
   "metadata": {},
   "source": [
    "# Step 5 - THE ART OF CHOOSING THE BEST MODEL"
   ]
  },
  {
   "cell_type": "code",
   "execution_count": 39,
   "id": "d12bd005",
   "metadata": {},
   "outputs": [],
   "source": [
    "knn=KNeighborsRegressor()\n",
    "dt=DecisionTreeRegressor()\n",
    "rf=RandomForestRegressor()\n",
    "ada=AdaBoostRegressor()\n",
    "gb=GradientBoostingRegressor()\n",
    "xgb=XGBRegressor()"
   ]
  },
  {
   "cell_type": "code",
   "execution_count": 40,
   "id": "55b52185",
   "metadata": {},
   "outputs": [
    {
     "name": "stdout",
     "output_type": "stream",
     "text": [
      "At random state 739 The model performs very well\n",
      "At random state:- 739\n",
      "Training Accuracy score: -  62.2\n",
      "At random state 825 The model performs very well\n",
      "At random state:- 825\n",
      "Training Accuracy score: -  61.4\n",
      "At random state 2338 The model performs very well\n",
      "At random state:- 2338\n",
      "Training Accuracy score: -  61.9\n"
     ]
    }
   ],
   "source": [
    "#initializing and calculating the random state at which model is at optimum performance\n",
    "knn=KNeighborsRegressor()\n",
    "for i in range(0,5000):\n",
    "    x_train,x_test,y_train,y_test=train_test_split(X_Scaled,Y,random_state=i,test_size=0.20)\n",
    "    knn.fit(x_train,y_train)\n",
    "    pred_train=knn.predict(x_train)\n",
    "    pred_test=knn.predict(x_test)\n",
    "    if round(metrics.r2_score(y_train,pred_train)*100,1)==round(metrics.r2_score(y_test,pred_test)*100,1):\n",
    "        print(\"At random state\",i,\"The model performs very well\")\n",
    "        print(\"At random state:-\",i)\n",
    "        print(\"Training Accuracy score: - \",round(metrics.r2_score(y_train,pred_train)*100,1))"
   ]
  },
  {
   "cell_type": "code",
   "execution_count": 41,
   "id": "3996a93b",
   "metadata": {},
   "outputs": [],
   "source": [
    "#initializing and calculating the random state at which model is at optimum performance\n",
    "dt=DecisionTreeRegressor()\n",
    "for i in range(0,100):\n",
    "    x_train,x_test,y_train,y_test=train_test_split(X_Scaled,Y,random_state=i,test_size=0.20)\n",
    "    dt.fit(x_train,y_train)\n",
    "    pred_train=dt.predict(x_train)\n",
    "    pred_test=dt.predict(x_test)\n",
    "    if round(metrics.r2_score(y_train,pred_train)*100,1)==round(metrics.r2_score(y_test,pred_test)*100,1):\n",
    "        print(\"At random state\",i,\"The model performs very well\")\n",
    "        print(\"At random state:-\",i)\n",
    "        print(\"Training Accuracy score: - \",round(metrics.r2_score(y_train,pred_train)*100,1))"
   ]
  },
  {
   "cell_type": "code",
   "execution_count": 42,
   "id": "0040c53a",
   "metadata": {},
   "outputs": [],
   "source": [
    "#initializing and calculating the random state at which model is at optimum performance\n",
    "rf=RandomForestRegressor()\n",
    "for i in range(0,100):\n",
    "    x_train,x_test,y_train,y_test=train_test_split(X_Scaled,Y,random_state=i,test_size=0.20)\n",
    "    rf.fit(x_train,y_train)\n",
    "    pred_train=rf.predict(x_train)\n",
    "    pred_test=rf.predict(x_test)\n",
    "    if round(metrics.r2_score(y_train,pred_train)*100,1)==round(metrics.r2_score(y_test,pred_test)*100,1):\n",
    "        print(\"At random state\",i,\"The model performs very well\")\n",
    "        print(\"At random state:-\",i)\n",
    "        print(\"Training Accuracy score: - \",round(metrics.r2_score(y_train,pred_train)*100,1))"
   ]
  },
  {
   "cell_type": "code",
   "execution_count": 43,
   "id": "d6fd4914",
   "metadata": {},
   "outputs": [
    {
     "name": "stdout",
     "output_type": "stream",
     "text": [
      "At random state 2 The model performs very well\n",
      "At random state:- 2\n",
      "Training Accuracy score: -  56.7\n",
      "At random state 439 The model performs very well\n",
      "At random state:- 439\n",
      "Training Accuracy score: -  57.9\n",
      "At random state 623 The model performs very well\n",
      "At random state:- 623\n",
      "Training Accuracy score: -  57.8\n",
      "At random state 693 The model performs very well\n",
      "At random state:- 693\n",
      "Training Accuracy score: -  57.6\n",
      "At random state 1103 The model performs very well\n",
      "At random state:- 1103\n",
      "Training Accuracy score: -  58.1\n",
      "At random state 1288 The model performs very well\n",
      "At random state:- 1288\n",
      "Training Accuracy score: -  55.2\n",
      "At random state 1691 The model performs very well\n",
      "At random state:- 1691\n",
      "Training Accuracy score: -  55.3\n",
      "At random state 2229 The model performs very well\n",
      "At random state:- 2229\n",
      "Training Accuracy score: -  56.7\n",
      "At random state 2916 The model performs very well\n",
      "At random state:- 2916\n",
      "Training Accuracy score: -  57.2\n",
      "At random state 3015 The model performs very well\n",
      "At random state:- 3015\n",
      "Training Accuracy score: -  56.8\n",
      "At random state 3509 The model performs very well\n",
      "At random state:- 3509\n",
      "Training Accuracy score: -  56.2\n",
      "At random state 4076 The model performs very well\n",
      "At random state:- 4076\n",
      "Training Accuracy score: -  59.0\n",
      "At random state 4091 The model performs very well\n",
      "At random state:- 4091\n",
      "Training Accuracy score: -  55.4\n",
      "At random state 4471 The model performs very well\n",
      "At random state:- 4471\n",
      "Training Accuracy score: -  58.0\n",
      "At random state 4514 The model performs very well\n",
      "At random state:- 4514\n",
      "Training Accuracy score: -  58.0\n"
     ]
    }
   ],
   "source": [
    "#initializing and calculating the random state at which each model is at optimum performance\n",
    "ada=AdaBoostRegressor()\n",
    "for i in range(0,5000):\n",
    "    x_train,x_test,y_train,y_test=train_test_split(X_Scaled,Y,random_state=i,test_size=0.20)\n",
    "    ada.fit(x_train,y_train)\n",
    "    pred_train=ada.predict(x_train)\n",
    "    pred_test=ada.predict(x_test)\n",
    "    if round(metrics.r2_score(y_train,pred_train)*100,1)==round(metrics.r2_score(y_test,pred_test)*100,1):\n",
    "        print(\"At random state\",i,\"The model performs very well\")\n",
    "        print(\"At random state:-\",i)\n",
    "        print(\"Training Accuracy score: - \",round(metrics.r2_score(y_train,pred_train)*100,1))"
   ]
  },
  {
   "cell_type": "code",
   "execution_count": 44,
   "id": "7194cb1d",
   "metadata": {},
   "outputs": [],
   "source": [
    "#initializing and calculating the random state at which each model is at optimum performance\n",
    "gb=GradientBoostingRegressor()\n",
    "for i in range(0,100):\n",
    "    x_train,x_test,y_train,y_test=train_test_split(X_Scaled,Y,random_state=i,test_size=0.20)\n",
    "    gb.fit(x_train,y_train)\n",
    "    pred_train=gb.predict(x_train)\n",
    "    pred_test=gb.predict(x_test)\n",
    "    if round(metrics.r2_score(y_train,pred_train)*100,1)==round(metrics.r2_score(y_test,pred_test)*100,1):\n",
    "        print(\"At random state\",i,\"The model performs very well\")\n",
    "        print(\"At random state:-\",i)\n",
    "        print(\"Training Accuracy score: - \",round(metrics.r2_score(y_train,pred_train)*100,1))"
   ]
  },
  {
   "cell_type": "code",
   "execution_count": 45,
   "id": "be9fc51c",
   "metadata": {},
   "outputs": [],
   "source": [
    "#initializing and calculating the random state at which each model is at optimum performance\n",
    "xgb=XGBRegressor()\n",
    "for i in range(0,100):\n",
    "    x_train,x_test,y_train,y_test=train_test_split(X_Scaled,Y,random_state=i,test_size=0.20)\n",
    "    xgb.fit(x_train,y_train)\n",
    "    pred_train=xgb.predict(x_train)\n",
    "    pred_test=xgb.predict(x_test)\n",
    "    if round(metrics.r2_score(y_train,pred_train)*100,1)==round(metrics.r2_score(y_test,pred_test)*100,1):\n",
    "        print(\"At random state\",i,\"The model performs very well\")\n",
    "        print(\"At random state:-\",i)\n",
    "        print(\"Training Accuracy score: - \",round(metrics.r2_score(y_train,pred_train)*100,1))"
   ]
  },
  {
   "cell_type": "markdown",
   "id": "1f1d398f",
   "metadata": {},
   "source": [
    "- From the above only KNN and AdaBoost gave us a random state were the Accuracy Score of both train and test matches!\n",
    "\n",
    "FROM THE ABOVE, HENCE KNN IS THE BEST MODEL!!"
   ]
  },
  {
   "cell_type": "markdown",
   "id": "abad662c",
   "metadata": {},
   "source": [
    "# Splitting into train and test - KNN"
   ]
  },
  {
   "cell_type": "code",
   "execution_count": 46,
   "id": "67bce4a7",
   "metadata": {},
   "outputs": [],
   "source": [
    "x_train,x_test,y_train,y_test=train_test_split(X_Scaled,Y,random_state=739,test_size=0.25)"
   ]
  },
  {
   "cell_type": "markdown",
   "id": "b0158f33",
   "metadata": {},
   "source": [
    "# Accuracy Score - KNN"
   ]
  },
  {
   "cell_type": "code",
   "execution_count": 47,
   "id": "6a4a4fb1",
   "metadata": {},
   "outputs": [],
   "source": [
    "#Write one function and call as many as times to check Accuracy of different models\n",
    "def metric_r2_score(rgr,x_train,x_test,y_train,y_test,train=True):\n",
    "    rgr.fit(x_train,y_train)\n",
    "    if train:#i.e if train is equal to true since it has been set as true in the argument of the def statement\n",
    "        pred_train = rgr.predict(x_train)\n",
    "        print(\"\\n====================Train Result=================\")\n",
    "        print(f\"Accuracy Score: {metrics.r2_score(y_train, pred_train)*100:.2f}%\")#:.2f means convert to 2 decimal places \n",
    "    elif train==False:\n",
    "        pred_test=rgr.predict(x_test)\n",
    "        print(\"\\n====================Test Result=================\")\n",
    "        print(f\"Accuracy Score: {metrics.r2_score(y_test, pred_test)*100:.2f}%\")"
   ]
  },
  {
   "cell_type": "markdown",
   "id": "bd5692f8",
   "metadata": {},
   "source": [
    "# Knn - Accuracy(r2 score)"
   ]
  },
  {
   "cell_type": "code",
   "execution_count": 48,
   "id": "a5a68724",
   "metadata": {},
   "outputs": [
    {
     "name": "stdout",
     "output_type": "stream",
     "text": [
      "\n",
      "====================Train Result=================\n",
      "Accuracy Score: 62.63%\n",
      "\n",
      "====================Test Result=================\n",
      "Accuracy Score: 60.96%\n"
     ]
    }
   ],
   "source": [
    "#Checking for accuracy score(r2) for both train and test\n",
    "metric_r2_score(knn,x_train,x_test,y_train,y_test, train=True)#This is for training score\n",
    "metric_r2_score(knn,x_train,x_test,y_train,y_test, train=False)#This is for testing score"
   ]
  },
  {
   "cell_type": "markdown",
   "id": "2e45981b",
   "metadata": {},
   "source": [
    "# Cross Validation Score\n",
    "Now lets use Cross Validation Score to check if model is overfitting"
   ]
  },
  {
   "cell_type": "code",
   "execution_count": 49,
   "id": "ba0bbcbd",
   "metadata": {},
   "outputs": [
    {
     "data": {
      "text/plain": [
       "KFold(n_splits=3, random_state=None, shuffle=False)"
      ]
     },
     "execution_count": 49,
     "metadata": {},
     "output_type": "execute_result"
    }
   ],
   "source": [
    "#kfold method\n",
    "k_f=KFold(n_splits=3)\n",
    "k_f"
   ]
  },
  {
   "cell_type": "code",
   "execution_count": 50,
   "id": "2ce3b69f",
   "metadata": {},
   "outputs": [
    {
     "name": "stdout",
     "output_type": "stream",
     "text": [
      "train : [4 5 6 7 8 9]  test : [0 1 2 3]\n",
      "train : [0 1 2 3 7 8 9]  test : [4 5 6]\n",
      "train : [0 1 2 3 4 5 6]  test : [7 8 9]\n"
     ]
    }
   ],
   "source": [
    "for train, test in k_f.split([1,2,3,4,5,6,7,8,9,10]):\n",
    "    print('train :',train, ' test :',test)"
   ]
  },
  {
   "cell_type": "code",
   "execution_count": 51,
   "id": "fa6b0f2f",
   "metadata": {},
   "outputs": [
    {
     "data": {
      "text/plain": [
       "array([0.57610009, 0.44165393])"
      ]
     },
     "execution_count": 51,
     "metadata": {},
     "output_type": "execute_result"
    }
   ],
   "source": [
    "cross_val_score(knn, X_Scaled, Y, cv=2)"
   ]
  },
  {
   "cell_type": "code",
   "execution_count": 52,
   "id": "cc19a284",
   "metadata": {},
   "outputs": [
    {
     "data": {
      "text/plain": [
       "0.50887701272919"
      ]
     },
     "execution_count": 52,
     "metadata": {},
     "output_type": "execute_result"
    }
   ],
   "source": [
    "#taking the mean of the above array\n",
    "cross_val_score(KNeighborsRegressor(),X_Scaled,Y,cv=2).mean()"
   ]
  },
  {
   "cell_type": "markdown",
   "id": "478bf3d2",
   "metadata": {},
   "source": [
    "# Step 6 - HYPERPARAMETER TUNNING\n",
    " - Prepare list of parameters with options\n",
    " - KNN algorithm has two methods - kd_tree and bruteforce methods"
   ]
  },
  {
   "cell_type": "code",
   "execution_count": 53,
   "id": "df099baf",
   "metadata": {},
   "outputs": [],
   "source": [
    "param_grid={'algorithm':['kd_tree','brute'],'leaf_size':[3,5,6,7,8],'n_neighbors':[3,5,7,9,11,13]}"
   ]
  },
  {
   "cell_type": "code",
   "execution_count": 54,
   "id": "80406bd1",
   "metadata": {},
   "outputs": [],
   "source": [
    "#instantiating into gridsearch\n",
    "gridsearch = GridSearchCV(estimator=knn, param_grid=param_grid)"
   ]
  },
  {
   "cell_type": "code",
   "execution_count": 55,
   "id": "cf0daeab",
   "metadata": {},
   "outputs": [
    {
     "data": {
      "text/html": [
       "<style>#sk-container-id-1 {color: black;background-color: white;}#sk-container-id-1 pre{padding: 0;}#sk-container-id-1 div.sk-toggleable {background-color: white;}#sk-container-id-1 label.sk-toggleable__label {cursor: pointer;display: block;width: 100%;margin-bottom: 0;padding: 0.3em;box-sizing: border-box;text-align: center;}#sk-container-id-1 label.sk-toggleable__label-arrow:before {content: \"▸\";float: left;margin-right: 0.25em;color: #696969;}#sk-container-id-1 label.sk-toggleable__label-arrow:hover:before {color: black;}#sk-container-id-1 div.sk-estimator:hover label.sk-toggleable__label-arrow:before {color: black;}#sk-container-id-1 div.sk-toggleable__content {max-height: 0;max-width: 0;overflow: hidden;text-align: left;background-color: #f0f8ff;}#sk-container-id-1 div.sk-toggleable__content pre {margin: 0.2em;color: black;border-radius: 0.25em;background-color: #f0f8ff;}#sk-container-id-1 input.sk-toggleable__control:checked~div.sk-toggleable__content {max-height: 200px;max-width: 100%;overflow: auto;}#sk-container-id-1 input.sk-toggleable__control:checked~label.sk-toggleable__label-arrow:before {content: \"▾\";}#sk-container-id-1 div.sk-estimator input.sk-toggleable__control:checked~label.sk-toggleable__label {background-color: #d4ebff;}#sk-container-id-1 div.sk-label input.sk-toggleable__control:checked~label.sk-toggleable__label {background-color: #d4ebff;}#sk-container-id-1 input.sk-hidden--visually {border: 0;clip: rect(1px 1px 1px 1px);clip: rect(1px, 1px, 1px, 1px);height: 1px;margin: -1px;overflow: hidden;padding: 0;position: absolute;width: 1px;}#sk-container-id-1 div.sk-estimator {font-family: monospace;background-color: #f0f8ff;border: 1px dotted black;border-radius: 0.25em;box-sizing: border-box;margin-bottom: 0.5em;}#sk-container-id-1 div.sk-estimator:hover {background-color: #d4ebff;}#sk-container-id-1 div.sk-parallel-item::after {content: \"\";width: 100%;border-bottom: 1px solid gray;flex-grow: 1;}#sk-container-id-1 div.sk-label:hover label.sk-toggleable__label {background-color: #d4ebff;}#sk-container-id-1 div.sk-serial::before {content: \"\";position: absolute;border-left: 1px solid gray;box-sizing: border-box;top: 0;bottom: 0;left: 50%;z-index: 0;}#sk-container-id-1 div.sk-serial {display: flex;flex-direction: column;align-items: center;background-color: white;padding-right: 0.2em;padding-left: 0.2em;position: relative;}#sk-container-id-1 div.sk-item {position: relative;z-index: 1;}#sk-container-id-1 div.sk-parallel {display: flex;align-items: stretch;justify-content: center;background-color: white;position: relative;}#sk-container-id-1 div.sk-item::before, #sk-container-id-1 div.sk-parallel-item::before {content: \"\";position: absolute;border-left: 1px solid gray;box-sizing: border-box;top: 0;bottom: 0;left: 50%;z-index: -1;}#sk-container-id-1 div.sk-parallel-item {display: flex;flex-direction: column;z-index: 1;position: relative;background-color: white;}#sk-container-id-1 div.sk-parallel-item:first-child::after {align-self: flex-end;width: 50%;}#sk-container-id-1 div.sk-parallel-item:last-child::after {align-self: flex-start;width: 50%;}#sk-container-id-1 div.sk-parallel-item:only-child::after {width: 0;}#sk-container-id-1 div.sk-dashed-wrapped {border: 1px dashed gray;margin: 0 0.4em 0.5em 0.4em;box-sizing: border-box;padding-bottom: 0.4em;background-color: white;}#sk-container-id-1 div.sk-label label {font-family: monospace;font-weight: bold;display: inline-block;line-height: 1.2em;}#sk-container-id-1 div.sk-label-container {text-align: center;}#sk-container-id-1 div.sk-container {/* jupyter's `normalize.less` sets `[hidden] { display: none; }` but bootstrap.min.css set `[hidden] { display: none !important; }` so we also need the `!important` here to be able to override the default hidden behavior on the sphinx rendered scikit-learn.org. See: https://github.com/scikit-learn/scikit-learn/issues/21755 */display: inline-block !important;position: relative;}#sk-container-id-1 div.sk-text-repr-fallback {display: none;}</style><div id=\"sk-container-id-1\" class=\"sk-top-container\"><div class=\"sk-text-repr-fallback\"><pre>GridSearchCV(estimator=KNeighborsRegressor(),\n",
       "             param_grid={&#x27;algorithm&#x27;: [&#x27;kd_tree&#x27;, &#x27;brute&#x27;],\n",
       "                         &#x27;leaf_size&#x27;: [3, 5, 6, 7, 8],\n",
       "                         &#x27;n_neighbors&#x27;: [3, 5, 7, 9, 11, 13]})</pre><b>In a Jupyter environment, please rerun this cell to show the HTML representation or trust the notebook. <br />On GitHub, the HTML representation is unable to render, please try loading this page with nbviewer.org.</b></div><div class=\"sk-container\" hidden><div class=\"sk-item sk-dashed-wrapped\"><div class=\"sk-label-container\"><div class=\"sk-label sk-toggleable\"><input class=\"sk-toggleable__control sk-hidden--visually\" id=\"sk-estimator-id-1\" type=\"checkbox\" ><label for=\"sk-estimator-id-1\" class=\"sk-toggleable__label sk-toggleable__label-arrow\">GridSearchCV</label><div class=\"sk-toggleable__content\"><pre>GridSearchCV(estimator=KNeighborsRegressor(),\n",
       "             param_grid={&#x27;algorithm&#x27;: [&#x27;kd_tree&#x27;, &#x27;brute&#x27;],\n",
       "                         &#x27;leaf_size&#x27;: [3, 5, 6, 7, 8],\n",
       "                         &#x27;n_neighbors&#x27;: [3, 5, 7, 9, 11, 13]})</pre></div></div></div><div class=\"sk-parallel\"><div class=\"sk-parallel-item\"><div class=\"sk-item\"><div class=\"sk-label-container\"><div class=\"sk-label sk-toggleable\"><input class=\"sk-toggleable__control sk-hidden--visually\" id=\"sk-estimator-id-2\" type=\"checkbox\" ><label for=\"sk-estimator-id-2\" class=\"sk-toggleable__label sk-toggleable__label-arrow\">estimator: KNeighborsRegressor</label><div class=\"sk-toggleable__content\"><pre>KNeighborsRegressor()</pre></div></div></div><div class=\"sk-serial\"><div class=\"sk-item\"><div class=\"sk-estimator sk-toggleable\"><input class=\"sk-toggleable__control sk-hidden--visually\" id=\"sk-estimator-id-3\" type=\"checkbox\" ><label for=\"sk-estimator-id-3\" class=\"sk-toggleable__label sk-toggleable__label-arrow\">KNeighborsRegressor</label><div class=\"sk-toggleable__content\"><pre>KNeighborsRegressor()</pre></div></div></div></div></div></div></div></div></div></div>"
      ],
      "text/plain": [
       "GridSearchCV(estimator=KNeighborsRegressor(),\n",
       "             param_grid={'algorithm': ['kd_tree', 'brute'],\n",
       "                         'leaf_size': [3, 5, 6, 7, 8],\n",
       "                         'n_neighbors': [3, 5, 7, 9, 11, 13]})"
      ]
     },
     "execution_count": 55,
     "metadata": {},
     "output_type": "execute_result"
    }
   ],
   "source": [
    "##Training with tunning parameters\n",
    "gridsearch.fit(x_train,y_train)"
   ]
  },
  {
   "cell_type": "code",
   "execution_count": 56,
   "id": "3529633d",
   "metadata": {},
   "outputs": [
    {
     "data": {
      "text/plain": [
       "{'algorithm': 'brute', 'leaf_size': 3, 'n_neighbors': 11}"
      ]
     },
     "execution_count": 56,
     "metadata": {},
     "output_type": "execute_result"
    }
   ],
   "source": [
    "#Pick the best combination from the param_grid i.e.kd_tree,3,3 or kd_tree,3,5 or brute,3,3 and so on and then train with it\n",
    "gridsearch.best_params_"
   ]
  },
  {
   "cell_type": "code",
   "execution_count": 57,
   "id": "15665215",
   "metadata": {},
   "outputs": [],
   "source": [
    "#we will now use the best parameters in our KNN model and check if accuracy improved or increased\n",
    "knn=KNeighborsRegressor(algorithm = 'brute', leaf_size = 3, n_neighbors = 11)"
   ]
  },
  {
   "cell_type": "code",
   "execution_count": 58,
   "id": "66094e67",
   "metadata": {},
   "outputs": [
    {
     "data": {
      "text/html": [
       "<style>#sk-container-id-2 {color: black;background-color: white;}#sk-container-id-2 pre{padding: 0;}#sk-container-id-2 div.sk-toggleable {background-color: white;}#sk-container-id-2 label.sk-toggleable__label {cursor: pointer;display: block;width: 100%;margin-bottom: 0;padding: 0.3em;box-sizing: border-box;text-align: center;}#sk-container-id-2 label.sk-toggleable__label-arrow:before {content: \"▸\";float: left;margin-right: 0.25em;color: #696969;}#sk-container-id-2 label.sk-toggleable__label-arrow:hover:before {color: black;}#sk-container-id-2 div.sk-estimator:hover label.sk-toggleable__label-arrow:before {color: black;}#sk-container-id-2 div.sk-toggleable__content {max-height: 0;max-width: 0;overflow: hidden;text-align: left;background-color: #f0f8ff;}#sk-container-id-2 div.sk-toggleable__content pre {margin: 0.2em;color: black;border-radius: 0.25em;background-color: #f0f8ff;}#sk-container-id-2 input.sk-toggleable__control:checked~div.sk-toggleable__content {max-height: 200px;max-width: 100%;overflow: auto;}#sk-container-id-2 input.sk-toggleable__control:checked~label.sk-toggleable__label-arrow:before {content: \"▾\";}#sk-container-id-2 div.sk-estimator input.sk-toggleable__control:checked~label.sk-toggleable__label {background-color: #d4ebff;}#sk-container-id-2 div.sk-label input.sk-toggleable__control:checked~label.sk-toggleable__label {background-color: #d4ebff;}#sk-container-id-2 input.sk-hidden--visually {border: 0;clip: rect(1px 1px 1px 1px);clip: rect(1px, 1px, 1px, 1px);height: 1px;margin: -1px;overflow: hidden;padding: 0;position: absolute;width: 1px;}#sk-container-id-2 div.sk-estimator {font-family: monospace;background-color: #f0f8ff;border: 1px dotted black;border-radius: 0.25em;box-sizing: border-box;margin-bottom: 0.5em;}#sk-container-id-2 div.sk-estimator:hover {background-color: #d4ebff;}#sk-container-id-2 div.sk-parallel-item::after {content: \"\";width: 100%;border-bottom: 1px solid gray;flex-grow: 1;}#sk-container-id-2 div.sk-label:hover label.sk-toggleable__label {background-color: #d4ebff;}#sk-container-id-2 div.sk-serial::before {content: \"\";position: absolute;border-left: 1px solid gray;box-sizing: border-box;top: 0;bottom: 0;left: 50%;z-index: 0;}#sk-container-id-2 div.sk-serial {display: flex;flex-direction: column;align-items: center;background-color: white;padding-right: 0.2em;padding-left: 0.2em;position: relative;}#sk-container-id-2 div.sk-item {position: relative;z-index: 1;}#sk-container-id-2 div.sk-parallel {display: flex;align-items: stretch;justify-content: center;background-color: white;position: relative;}#sk-container-id-2 div.sk-item::before, #sk-container-id-2 div.sk-parallel-item::before {content: \"\";position: absolute;border-left: 1px solid gray;box-sizing: border-box;top: 0;bottom: 0;left: 50%;z-index: -1;}#sk-container-id-2 div.sk-parallel-item {display: flex;flex-direction: column;z-index: 1;position: relative;background-color: white;}#sk-container-id-2 div.sk-parallel-item:first-child::after {align-self: flex-end;width: 50%;}#sk-container-id-2 div.sk-parallel-item:last-child::after {align-self: flex-start;width: 50%;}#sk-container-id-2 div.sk-parallel-item:only-child::after {width: 0;}#sk-container-id-2 div.sk-dashed-wrapped {border: 1px dashed gray;margin: 0 0.4em 0.5em 0.4em;box-sizing: border-box;padding-bottom: 0.4em;background-color: white;}#sk-container-id-2 div.sk-label label {font-family: monospace;font-weight: bold;display: inline-block;line-height: 1.2em;}#sk-container-id-2 div.sk-label-container {text-align: center;}#sk-container-id-2 div.sk-container {/* jupyter's `normalize.less` sets `[hidden] { display: none; }` but bootstrap.min.css set `[hidden] { display: none !important; }` so we also need the `!important` here to be able to override the default hidden behavior on the sphinx rendered scikit-learn.org. See: https://github.com/scikit-learn/scikit-learn/issues/21755 */display: inline-block !important;position: relative;}#sk-container-id-2 div.sk-text-repr-fallback {display: none;}</style><div id=\"sk-container-id-2\" class=\"sk-top-container\"><div class=\"sk-text-repr-fallback\"><pre>KNeighborsRegressor(algorithm=&#x27;brute&#x27;, leaf_size=3, n_neighbors=11)</pre><b>In a Jupyter environment, please rerun this cell to show the HTML representation or trust the notebook. <br />On GitHub, the HTML representation is unable to render, please try loading this page with nbviewer.org.</b></div><div class=\"sk-container\" hidden><div class=\"sk-item\"><div class=\"sk-estimator sk-toggleable\"><input class=\"sk-toggleable__control sk-hidden--visually\" id=\"sk-estimator-id-4\" type=\"checkbox\" checked><label for=\"sk-estimator-id-4\" class=\"sk-toggleable__label sk-toggleable__label-arrow\">KNeighborsRegressor</label><div class=\"sk-toggleable__content\"><pre>KNeighborsRegressor(algorithm=&#x27;brute&#x27;, leaf_size=3, n_neighbors=11)</pre></div></div></div></div></div>"
      ],
      "text/plain": [
       "KNeighborsRegressor(algorithm='brute', leaf_size=3, n_neighbors=11)"
      ]
     },
     "execution_count": 58,
     "metadata": {},
     "output_type": "execute_result"
    }
   ],
   "source": [
    "#tunning with the best_parameters\n",
    "knn.fit(x_train,y_train)"
   ]
  },
  {
   "cell_type": "code",
   "execution_count": 59,
   "id": "4d0e83e0",
   "metadata": {},
   "outputs": [
    {
     "name": "stdout",
     "output_type": "stream",
     "text": [
      "\n",
      "====================Train Result=================\n",
      "Accuracy Score: 57.19%\n",
      "\n",
      "====================Test Result=================\n",
      "Accuracy Score: 63.30%\n"
     ]
    }
   ],
   "source": [
    "metric_r2_score(knn,x_train,x_test,y_train,y_test, train=True)#This is for training score\n",
    "metric_r2_score(knn,x_train,x_test,y_train,y_test, train=False)#This is for testing score"
   ]
  },
  {
   "cell_type": "markdown",
   "id": "fcd997e4",
   "metadata": {},
   "source": [
    "# Step 7 - Model Saving"
   ]
  },
  {
   "cell_type": "code",
   "execution_count": 60,
   "id": "c2c84220",
   "metadata": {},
   "outputs": [],
   "source": [
    "filename='Machine_Model_Project_Salary'\n",
    "pickle.dump(knn,open(filename,'wb'))"
   ]
  }
 ],
 "metadata": {
  "kernelspec": {
   "display_name": "Python 3 (ipykernel)",
   "language": "python",
   "name": "python3"
  },
  "language_info": {
   "codemirror_mode": {
    "name": "ipython",
    "version": 3
   },
   "file_extension": ".py",
   "mimetype": "text/x-python",
   "name": "python",
   "nbconvert_exporter": "python",
   "pygments_lexer": "ipython3",
   "version": "3.9.12"
  }
 },
 "nbformat": 4,
 "nbformat_minor": 5
}
